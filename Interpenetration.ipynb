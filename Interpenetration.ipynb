{
  "nbformat": 4,
  "nbformat_minor": 0,
  "metadata": {
    "colab": {
      "provenance": [],
      "authorship_tag": "ABX9TyMhkqu2WPtI4n+4HgfF/+xb",
      "include_colab_link": true
    },
    "kernelspec": {
      "name": "python3",
      "display_name": "Python 3"
    },
    "language_info": {
      "name": "python"
    }
  },
  "cells": [
    {
      "cell_type": "markdown",
      "metadata": {
        "id": "view-in-github",
        "colab_type": "text"
      },
      "source": [
        "<a href=\"https://colab.research.google.com/github/Vikas-Soni-nn/Test/blob/Vikas/Interpenetration.ipynb\" target=\"_parent\"><img src=\"https://colab.research.google.com/assets/colab-badge.svg\" alt=\"Open In Colab\"/></a>"
      ]
    },
    {
      "cell_type": "code",
      "source": [
        "from google.colab import drive\n",
        "drive.mount('/content/drive')"
      ],
      "metadata": {
        "colab": {
          "base_uri": "https://localhost:8080/"
        },
        "id": "1xxUdjsCl79v",
        "outputId": "c9c5762e-e2b8-44a8-a131-7f2865693b1b"
      },
      "execution_count": null,
      "outputs": [
        {
          "output_type": "stream",
          "name": "stdout",
          "text": [
            "Mounted at /content/drive\n"
          ]
        }
      ]
    },
    {
      "cell_type": "code",
      "source": [
        "!sudo apt-get install libboost-dev"
      ],
      "metadata": {
        "id": "S0lmd5DHcGrV",
        "colab": {
          "base_uri": "https://localhost:8080/"
        },
        "outputId": "20bb0735-493f-4e0f-c66b-dfc77f7056cd"
      },
      "execution_count": null,
      "outputs": [
        {
          "output_type": "stream",
          "name": "stdout",
          "text": [
            "Reading package lists... Done\n",
            "Building dependency tree       \n",
            "Reading state information... Done\n",
            "libboost-dev is already the newest version (1.65.1.0ubuntu1).\n",
            "libboost-dev set to manually installed.\n",
            "The following package was automatically installed and is no longer required:\n",
            "  libnvidia-common-460\n",
            "Use 'sudo apt autoremove' to remove it.\n",
            "0 upgraded, 0 newly installed, 0 to remove and 12 not upgraded.\n"
          ]
        }
      ]
    },
    {
      "cell_type": "code",
      "source": [
        "!pip install git+https://github.com/MPI-IS/mesh.git\n"
      ],
      "metadata": {
        "colab": {
          "base_uri": "https://localhost:8080/"
        },
        "id": "eL3_pQFzqgIY",
        "outputId": "32671ee1-12d8-42e5-adc9-b0ea987cb084"
      },
      "execution_count": null,
      "outputs": [
        {
          "output_type": "stream",
          "name": "stdout",
          "text": [
            "Looking in indexes: https://pypi.org/simple, https://us-python.pkg.dev/colab-wheels/public/simple/\n",
            "Collecting git+https://github.com/MPI-IS/mesh.git\n",
            "  Cloning https://github.com/MPI-IS/mesh.git to /tmp/pip-req-build-utmaaymj\n",
            "  Running command git clone -q https://github.com/MPI-IS/mesh.git /tmp/pip-req-build-utmaaymj\n",
            "Requirement already satisfied: numpy>=1.8 in /usr/local/lib/python3.7/dist-packages (from psbody-mesh==0.4) (1.21.6)\n",
            "Requirement already satisfied: opencv-python in /usr/local/lib/python3.7/dist-packages (from psbody-mesh==0.4) (4.6.0.66)\n",
            "Requirement already satisfied: pillow in /usr/local/lib/python3.7/dist-packages (from psbody-mesh==0.4) (7.1.2)\n",
            "Requirement already satisfied: pyopengl in /usr/local/lib/python3.7/dist-packages (from psbody-mesh==0.4) (3.1.6)\n",
            "Requirement already satisfied: pyyaml in /usr/local/lib/python3.7/dist-packages (from psbody-mesh==0.4) (6.0)\n",
            "Requirement already satisfied: pyzmq in /usr/local/lib/python3.7/dist-packages (from psbody-mesh==0.4) (23.2.1)\n",
            "Requirement already satisfied: scipy in /usr/local/lib/python3.7/dist-packages (from psbody-mesh==0.4) (1.7.3)\n",
            "Building wheels for collected packages: psbody-mesh\n",
            "  Building wheel for psbody-mesh (setup.py) ... \u001b[?25l\u001b[?25hdone\n",
            "  Created wheel for psbody-mesh: filename=psbody_mesh-0.4-cp37-cp37m-linux_x86_64.whl size=1855236 sha256=20d58140b5e9f4517fa05df4040f427a6a2064f8120924e2d28e0b5ec875887d\n",
            "  Stored in directory: /tmp/pip-ephem-wheel-cache-i1f4fvy_/wheels/15/9e/8a/9a8acd7eb649a805222ec1acd1dad2abb02a333d74fb5c6afc\n",
            "Successfully built psbody-mesh\n",
            "Installing collected packages: psbody-mesh\n",
            "Successfully installed psbody-mesh-0.4\n"
          ]
        }
      ]
    },
    {
      "cell_type": "code",
      "source": [
        "!git clone https://github.com/chaitanya100100/TailorNet.git"
      ],
      "metadata": {
        "colab": {
          "base_uri": "https://localhost:8080/"
        },
        "id": "OVRDFVZBFh78",
        "outputId": "4fed726f-b0c2-434e-e5a7-4c95f87c47b7"
      },
      "execution_count": null,
      "outputs": [
        {
          "output_type": "stream",
          "name": "stdout",
          "text": [
            "Cloning into 'TailorNet'...\n",
            "remote: Enumerating objects: 327, done.\u001b[K\n",
            "remote: Counting objects: 100% (91/91), done.\u001b[K\n",
            "remote: Compressing objects: 100% (20/20), done.\u001b[K\n",
            "remote: Total 327 (delta 81), reused 71 (delta 71), pack-reused 236\u001b[K\n",
            "Receiving objects: 100% (327/327), 7.13 MiB | 12.78 MiB/s, done.\n",
            "Resolving deltas: 100% (218/218), done.\n"
          ]
        }
      ]
    },
    {
      "cell_type": "code",
      "source": [
        "cd TailorNet\n"
      ],
      "metadata": {
        "colab": {
          "base_uri": "https://localhost:8080/"
        },
        "id": "7cbPiZ1lskpm",
        "outputId": "7e16227c-683f-4a6a-ad78-b9e995e3d96b"
      },
      "execution_count": null,
      "outputs": [
        {
          "output_type": "stream",
          "name": "stdout",
          "text": [
            "/content/TailorNet\n"
          ]
        }
      ]
    },
    {
      "cell_type": "code",
      "source": [
        "import numpy as np\n",
        "\n",
        "import scipy.sparse as sp\n",
        "from scipy.sparse import vstack, csr_matrix\n",
        "from scipy.sparse.linalg import spsolve   # ILNumerics\n",
        "from psbody.mesh import Mesh\n",
        "\n",
        "from psbody.mesh import Mesh\n",
        "from psbody.mesh.geometry.vert_normals import VertNormals\n",
        "from psbody.mesh.geometry.tri_normals import TriNormals\n",
        "from psbody.mesh.search import AabbTree\n",
        "from utils.diffusion_smoothing import numpy_laplacian_uniform as laplacian\n",
        "\n",
        "import time \n",
        "def get_nearest_points_and_normals(vert, base_verts, base_faces):\n",
        "    \"\"\"For each vertex of `vert`, find nearest surface points on\n",
        "    base mesh (`base_verts`, `base_faces`).\n",
        "    \"\"\"\n",
        "    fn = TriNormals(v=base_verts, f=base_faces).reshape((-1, 3))\n",
        "    #print(\"fn\", fn)\n",
        "    vn = VertNormals(v=base_verts, f=base_faces).reshape((-1, 3))\n",
        "    # np.save('/content/vertex_normals.npy', vn)\n",
        "    # np.save('/content/faces_normals.npy', fn)\n",
        "    #print(\"vn\", vn)\n",
        "    #start_time = time.time()\n",
        "    tree = AabbTree(Mesh(v=base_verts, f=base_faces))\n",
        "    #print(time.time()- start_time)\n",
        "    nearest_tri, nearest_part, nearest_point = tree.nearest(vert, nearest_part=True)\n",
        "    # np.save('/content/nearest_tri.npy', nearest_tri)\n",
        "    # np.save('/content/nearest_part.npy', nearest_part)\n",
        "    # np.save('/content/nearest_point.npy', nearest_point)\n",
        "    #print(time.time() - start_time)\n",
        "    nearest_tri = nearest_tri.ravel().astype(np.long)\n",
        "    nearest_part = nearest_part.ravel().astype(np.long)\n",
        "\n",
        "    nearest_normals = np.zeros_like(vert)\n",
        "\n",
        "    # nearest_part tells you whether the closest point in triangle abc is\n",
        "    # in the interior (0), on an edge (ab:1,bc:2,ca:3), or a vertex (a:4,b:5,c:6)\n",
        "    cl_tri_idxs = np.nonzero(nearest_part == 0)[0].astype(np.int)\n",
        "    cl_vrt_idxs = np.nonzero(nearest_part > 3)[0].astype(np.int)\n",
        "    cl_edg_idxs = np.nonzero((nearest_part <= 3) & (nearest_part > 0))[0].astype(np.int)\n",
        "    print(cl_tri_idxs.shape)\n",
        "    nt = nearest_tri[cl_tri_idxs]\n",
        "    nearest_normals[cl_tri_idxs] = fn[nt]\n",
        "\n",
        "    nt = nearest_tri[cl_vrt_idxs]\n",
        "    npp = nearest_part[cl_vrt_idxs] - 4\n",
        "    nearest_normals[cl_vrt_idxs] = vn[base_faces[nt, npp]]\n",
        "\n",
        "    nt = nearest_tri[cl_edg_idxs]\n",
        "    npp = nearest_part[cl_edg_idxs] - 1\n",
        "    nearest_normals[cl_edg_idxs] += vn[base_faces[nt, npp]]\n",
        "    npp = np.mod(nearest_part[cl_edg_idxs], 3)\n",
        "    nearest_normals[cl_edg_idxs] += vn[base_faces[nt, npp]]\n",
        "\n",
        "    nearest_normals = nearest_normals / (np.linalg.norm(nearest_normals, axis=-1, keepdims=True) + 1.e-10)\n",
        "\n",
        "    return nearest_point, nearest_normals\n",
        "\n",
        "\n",
        "def remove_interpenetration_fast(mesh, base, L=None):\n",
        "    \"\"\"Deforms `mesh` to remove its interpenetration from `base`.\n",
        "    This is posed as least square optimization problem which can be solved\n",
        "    faster with sparse solver.\n",
        "    \"\"\"\n",
        "\n",
        "    eps = 0.01\n",
        "    ww = 2.0\n",
        "    nverts = mesh.v.shape[0]\n",
        "\n",
        "    if L is None:\n",
        "        L = laplacian(mesh.v, mesh.f)\n",
        "\n",
        "    nearest_points, nearest_normals = get_nearest_points_and_normals(mesh.v, base.v, base.f)\n",
        "    direction = np.sign( np.sum((mesh.v - nearest_points) * nearest_normals, axis=-1) )\n",
        "\n",
        "    indices = np.where(direction < 0)[0]\n",
        "\n",
        "    pentgt_points = nearest_points[indices] - mesh.v[indices]\n",
        "    pentgt_points = [indices] + eps * pentgt_points / np.expand_dims(0.0001 + np.linalg.norm(pentgt_points, axis=1), 1)\n",
        "    tgt_points = mesh.v.copy()\n",
        "    tgt_points[indices] = ww * pentgt_points\n",
        "\n",
        "    rc = np.arange(nverts)\n",
        "    data = np.ones(nverts)\n",
        "    data[indices] *= ww\n",
        "    #np.save('/content/data.npy', data)\n",
        "    I = csr_matrix((data, (rc, rc)), shape=(nverts, nverts))\n",
        "    #print(I.shape)\n",
        "\n",
        "    A = vstack([L, I])\n",
        "    b = np.vstack((\n",
        "        L.dot(mesh.v),\n",
        "        tgt_points\n",
        "    ))\n",
        "    #np.save('/content/matrix.npy', I)\n",
        "    start_time = time.time()\n",
        "    res = spsolve(A.T.dot(A), A.T.dot(b))\n",
        "    print(time.time() - start_time)\n",
        "    mres = Mesh(v=res, f=mesh.f)\n",
        "    return mres\n",
        "\n",
        "\n"
      ],
      "metadata": {
        "id": "7k8E8WtYrpaq"
      },
      "execution_count": null,
      "outputs": []
    },
    {
      "cell_type": "code",
      "source": [
        "import os\n",
        "dir = \"/content/drive/MyDrive/1_10_anim_body\"\n",
        "dir_cloth = '/content/drive/MyDrive/anim_out'\n",
        "for i in range(370):\n",
        "    filename = f'anim_body_{i}.obj'\n",
        "    f = os.path.join(dir, filename)\n",
        "    filename_cloth = f'anim_cloth_{i}.obj'\n",
        "    f_cloth = os.path.join(dir_cloth, filename_cloth)\n",
        "    body = Mesh(filename=f)\n",
        "    cloth = Mesh(filename=f_cloth)\n",
        "    tree = AabbTree(Mesh(v=body.v, f=body.f))\n",
        "    nearest_tri, nearest_part, nearest_point = tree.nearest(cloth.v, nearest_part=True)\n",
        "    #fn = TriNormals(v=body.v, f=body.f).reshape((-1, 3))\n",
        "    np.save(f'/content/drive/MyDrive/nearest_tri/nearest_tri_{i}.npy', nearest_tri)\n",
        "    np.save(f'/content/drive/MyDrive/nearest_point/nearest_point_{i}.npy', nearest_point)\n",
        "\n",
        "# body = Mesh(filename='/content/drive/MyDrive/1.obj')\n",
        "# mesh = Mesh(filename='/content/drive/MyDrive/predicted_exp.obj')\n",
        "# fn = TriNormals(v=base_verts, f=base_faces).reshape((-1, 3))\n",
        "\n",
        "# nearest_points, nearest_normals = get_nearest_points_and_normals(mesh.v, body.v, body.f)"
      ],
      "metadata": {
        "id": "KONIwaousoXx"
      },
      "execution_count": null,
      "outputs": []
    },
    {
      "cell_type": "code",
      "source": [
        "body = Mesh(filename='/content/drive/MyDrive/1_000001.obj')\n",
        "mesh = Mesh(filename='/content/drive/MyDrive/anim_out/anim_cloth_0.obj')\n",
        "import time\n",
        "start_time = time.time()\n",
        "tree = AabbTree(Mesh(v=body.v, f=body.f))\n",
        "print(tree)\n",
        "nearest_tri, nearest_part, nearest_point = tree.nearest(mesh.v, nearest_part=True)\n",
        "print(time.time() - start_time)"
      ],
      "metadata": {
        "colab": {
          "base_uri": "https://localhost:8080/"
        },
        "id": "Mem9sLpNO2gh",
        "outputId": "082cf31d-7b87-445b-caf7-5bb64e7419f4"
      },
      "execution_count": null,
      "outputs": [
        {
          "output_type": "stream",
          "name": "stdout",
          "text": [
            "<psbody.mesh.search.AabbTree object at 0x7f0bc5bade50>\n",
            "0.052698612213134766\n"
          ]
        }
      ]
    },
    {
      "cell_type": "code",
      "source": [
        "nearest_tri"
      ],
      "metadata": {
        "id": "lKMsJnj3xGuL",
        "outputId": "ac349a1d-5fd7-4749-e1d1-e5db00ff8d44",
        "colab": {
          "base_uri": "https://localhost:8080/"
        }
      },
      "execution_count": null,
      "outputs": [
        {
          "output_type": "execute_result",
          "data": {
            "text/plain": [
              "array([[ 8726,  8722,  5465, ..., 13664, 18163, 13793]], dtype=uint32)"
            ]
          },
          "metadata": {},
          "execution_count": 19
        }
      ]
    },
    {
      "cell_type": "code",
      "source": [
        "np.save('/content/nearest_normals.npy', nearest_normals)"
      ],
      "metadata": {
        "id": "StEWqL4Ee0u3"
      },
      "execution_count": null,
      "outputs": []
    },
    {
      "cell_type": "code",
      "source": [
        "direction = np.sign( np.sum((mesh.v - nearest_points) * nearest_normals, axis=-1) )\n",
        "\n",
        "indices = np.where(direction < 0)[0]"
      ],
      "metadata": {
        "id": "KKnMg2gtC_x9"
      },
      "execution_count": null,
      "outputs": []
    },
    {
      "cell_type": "code",
      "source": [
        "indices\n",
        "np.save('/content/points-Inside.npy', indices)"
      ],
      "metadata": {
        "id": "TvoW8IunDHWn"
      },
      "execution_count": null,
      "outputs": []
    },
    {
      "cell_type": "code",
      "source": [
        "body = Mesh(filename='/content/drive/MyDrive/1_10_anim_body/anim_body_225.obj')\n",
        "mesh = Mesh(filename='/content/drive/MyDrive/anim_out/anim_cloth_225.obj')\n",
        "print(body.v.shape)\n",
        "mesh.v.shape"
      ],
      "metadata": {
        "colab": {
          "base_uri": "https://localhost:8080/"
        },
        "id": "9-fZHcd8LDwa",
        "outputId": "1120c568-2091-4550-b0a2-cf04add5f6be"
      },
      "execution_count": null,
      "outputs": [
        {
          "output_type": "stream",
          "name": "stdout",
          "text": [
            "(10475, 3)\n"
          ]
        },
        {
          "output_type": "execute_result",
          "data": {
            "text/plain": [
              "(6716, 3)"
            ]
          },
          "metadata": {},
          "execution_count": 11
        }
      ]
    },
    {
      "cell_type": "code",
      "source": [
        "import time\n",
        "#start_time_int = time.time()\n",
        "body = Mesh(filename='/content/drive/MyDrive/1_10_anim_body/anim_body_225.obj')\n",
        "mesh = Mesh(filename='/content/drive/MyDrive/anim_out/anim_cloth_225.obj')\n",
        "start_time_int = time.time()\n",
        "mesh1 = remove_interpenetration_fast(mesh, body)\n",
        "\n",
        "mesh1.write_obj('/content/gar_naive_2.obj')\n",
        "\n",
        "#end_time = time.time()\n",
        "print(time.time() - start_time_int) "
      ],
      "metadata": {
        "colab": {
          "base_uri": "https://localhost:8080/",
          "height": 582
        },
        "id": "EgNly-6k4cBb",
        "outputId": "acb103a6-c11f-4867-fe19-df186a3a3dc8"
      },
      "execution_count": null,
      "outputs": [
        {
          "output_type": "stream",
          "name": "stdout",
          "text": [
            "(5384,)\n"
          ]
        },
        {
          "output_type": "stream",
          "name": "stderr",
          "text": [
            "/usr/local/lib/python3.7/dist-packages/ipykernel_launcher.py:33: DeprecationWarning: `np.long` is a deprecated alias for `np.compat.long`. To silence this warning, use `np.compat.long` by itself. In the likely event your code does not need to work on Python 2 you can use the builtin `int` for which `np.compat.long` is itself an alias. Doing this will not modify any behaviour and is safe. When replacing `np.long`, you may wish to use e.g. `np.int64` or `np.int32` to specify the precision. If you wish to review your current use, check the release note link for additional information.\n",
            "Deprecated in NumPy 1.20; for more details and guidance: https://numpy.org/devdocs/release/1.20.0-notes.html#deprecations\n",
            "/usr/local/lib/python3.7/dist-packages/ipykernel_launcher.py:34: DeprecationWarning: `np.long` is a deprecated alias for `np.compat.long`. To silence this warning, use `np.compat.long` by itself. In the likely event your code does not need to work on Python 2 you can use the builtin `int` for which `np.compat.long` is itself an alias. Doing this will not modify any behaviour and is safe. When replacing `np.long`, you may wish to use e.g. `np.int64` or `np.int32` to specify the precision. If you wish to review your current use, check the release note link for additional information.\n",
            "Deprecated in NumPy 1.20; for more details and guidance: https://numpy.org/devdocs/release/1.20.0-notes.html#deprecations\n",
            "/usr/local/lib/python3.7/dist-packages/ipykernel_launcher.py:40: DeprecationWarning: `np.int` is a deprecated alias for the builtin `int`. To silence this warning, use `int` by itself. Doing this will not modify any behavior and is safe. When replacing `np.int`, you may wish to use e.g. `np.int64` or `np.int32` to specify the precision. If you wish to review your current use, check the release note link for additional information.\n",
            "Deprecated in NumPy 1.20; for more details and guidance: https://numpy.org/devdocs/release/1.20.0-notes.html#deprecations\n",
            "/usr/local/lib/python3.7/dist-packages/ipykernel_launcher.py:41: DeprecationWarning: `np.int` is a deprecated alias for the builtin `int`. To silence this warning, use `int` by itself. Doing this will not modify any behavior and is safe. When replacing `np.int`, you may wish to use e.g. `np.int64` or `np.int32` to specify the precision. If you wish to review your current use, check the release note link for additional information.\n",
            "Deprecated in NumPy 1.20; for more details and guidance: https://numpy.org/devdocs/release/1.20.0-notes.html#deprecations\n",
            "/usr/local/lib/python3.7/dist-packages/ipykernel_launcher.py:42: DeprecationWarning: `np.int` is a deprecated alias for the builtin `int`. To silence this warning, use `int` by itself. Doing this will not modify any behavior and is safe. When replacing `np.int`, you may wish to use e.g. `np.int64` or `np.int32` to specify the precision. If you wish to review your current use, check the release note link for additional information.\n",
            "Deprecated in NumPy 1.20; for more details and guidance: https://numpy.org/devdocs/release/1.20.0-notes.html#deprecations\n"
          ]
        },
        {
          "output_type": "error",
          "ename": "ValueError",
          "evalue": "ignored",
          "traceback": [
            "\u001b[0;31m---------------------------------------------------------------------------\u001b[0m",
            "\u001b[0;31mValueError\u001b[0m                                Traceback (most recent call last)",
            "\u001b[0;32m<ipython-input-10-9cbc3d1bfda8>\u001b[0m in \u001b[0;36m<module>\u001b[0;34m\u001b[0m\n\u001b[1;32m      4\u001b[0m \u001b[0mmesh\u001b[0m \u001b[0;34m=\u001b[0m \u001b[0mMesh\u001b[0m\u001b[0;34m(\u001b[0m\u001b[0mfilename\u001b[0m\u001b[0;34m=\u001b[0m\u001b[0;34m'/content/drive/MyDrive/anim_out/anim_cloth_225.obj'\u001b[0m\u001b[0;34m)\u001b[0m\u001b[0;34m\u001b[0m\u001b[0;34m\u001b[0m\u001b[0m\n\u001b[1;32m      5\u001b[0m \u001b[0mstart_time_int\u001b[0m \u001b[0;34m=\u001b[0m \u001b[0mtime\u001b[0m\u001b[0;34m.\u001b[0m\u001b[0mtime\u001b[0m\u001b[0;34m(\u001b[0m\u001b[0;34m)\u001b[0m\u001b[0;34m\u001b[0m\u001b[0;34m\u001b[0m\u001b[0m\n\u001b[0;32m----> 6\u001b[0;31m \u001b[0mmesh1\u001b[0m \u001b[0;34m=\u001b[0m \u001b[0mremove_interpenetration_fast\u001b[0m\u001b[0;34m(\u001b[0m\u001b[0mmesh\u001b[0m\u001b[0;34m,\u001b[0m \u001b[0mbody\u001b[0m\u001b[0;34m)\u001b[0m\u001b[0;34m\u001b[0m\u001b[0;34m\u001b[0m\u001b[0m\n\u001b[0m\u001b[1;32m      7\u001b[0m \u001b[0;34m\u001b[0m\u001b[0m\n\u001b[1;32m      8\u001b[0m \u001b[0mmesh1\u001b[0m\u001b[0;34m.\u001b[0m\u001b[0mwrite_obj\u001b[0m\u001b[0;34m(\u001b[0m\u001b[0;34m'/content/gar_naive_2.obj'\u001b[0m\u001b[0;34m)\u001b[0m\u001b[0;34m\u001b[0m\u001b[0;34m\u001b[0m\u001b[0m\n",
            "\u001b[0;32m<ipython-input-9-8f244ca69edd>\u001b[0m in \u001b[0;36mremove_interpenetration_fast\u001b[0;34m(mesh, base, L)\u001b[0m\n\u001b[1;32m     79\u001b[0m \u001b[0;34m\u001b[0m\u001b[0m\n\u001b[1;32m     80\u001b[0m     \u001b[0mpentgt_points\u001b[0m \u001b[0;34m=\u001b[0m \u001b[0mnearest_points\u001b[0m\u001b[0;34m[\u001b[0m\u001b[0mindices\u001b[0m\u001b[0;34m]\u001b[0m \u001b[0;34m-\u001b[0m \u001b[0mmesh\u001b[0m\u001b[0;34m.\u001b[0m\u001b[0mv\u001b[0m\u001b[0;34m[\u001b[0m\u001b[0mindices\u001b[0m\u001b[0;34m]\u001b[0m\u001b[0;34m\u001b[0m\u001b[0;34m\u001b[0m\u001b[0m\n\u001b[0;32m---> 81\u001b[0;31m     \u001b[0mpentgt_points\u001b[0m \u001b[0;34m=\u001b[0m \u001b[0;34m[\u001b[0m\u001b[0mindices\u001b[0m\u001b[0;34m]\u001b[0m \u001b[0;34m+\u001b[0m \u001b[0meps\u001b[0m \u001b[0;34m*\u001b[0m \u001b[0mpentgt_points\u001b[0m \u001b[0;34m/\u001b[0m \u001b[0mnp\u001b[0m\u001b[0;34m.\u001b[0m\u001b[0mexpand_dims\u001b[0m\u001b[0;34m(\u001b[0m\u001b[0;36m0.0001\u001b[0m \u001b[0;34m+\u001b[0m \u001b[0mnp\u001b[0m\u001b[0;34m.\u001b[0m\u001b[0mlinalg\u001b[0m\u001b[0;34m.\u001b[0m\u001b[0mnorm\u001b[0m\u001b[0;34m(\u001b[0m\u001b[0mpentgt_points\u001b[0m\u001b[0;34m,\u001b[0m \u001b[0maxis\u001b[0m\u001b[0;34m=\u001b[0m\u001b[0;36m1\u001b[0m\u001b[0;34m)\u001b[0m\u001b[0;34m,\u001b[0m \u001b[0;36m1\u001b[0m\u001b[0;34m)\u001b[0m\u001b[0;34m\u001b[0m\u001b[0;34m\u001b[0m\u001b[0m\n\u001b[0m\u001b[1;32m     82\u001b[0m     \u001b[0mtgt_points\u001b[0m \u001b[0;34m=\u001b[0m \u001b[0mmesh\u001b[0m\u001b[0;34m.\u001b[0m\u001b[0mv\u001b[0m\u001b[0;34m.\u001b[0m\u001b[0mcopy\u001b[0m\u001b[0;34m(\u001b[0m\u001b[0;34m)\u001b[0m\u001b[0;34m\u001b[0m\u001b[0;34m\u001b[0m\u001b[0m\n\u001b[1;32m     83\u001b[0m     \u001b[0mtgt_points\u001b[0m\u001b[0;34m[\u001b[0m\u001b[0mindices\u001b[0m\u001b[0;34m]\u001b[0m \u001b[0;34m=\u001b[0m \u001b[0mww\u001b[0m \u001b[0;34m*\u001b[0m \u001b[0mpentgt_points\u001b[0m\u001b[0;34m\u001b[0m\u001b[0;34m\u001b[0m\u001b[0m\n",
            "\u001b[0;31mValueError\u001b[0m: operands could not be broadcast together with shapes (1,220) (220,3) "
          ]
        }
      ]
    },
    {
      "cell_type": "code",
      "source": [
        "from scipy.spatial import KDTree\n",
        "body = Mesh(filename='/content/drive/MyDrive/1.obj')\n",
        "distances = [0]*6716\n",
        "indices = [0]*6716\n",
        "import time\n",
        "start_time = time.time()\n",
        "\n",
        "\n",
        "kdtree = KDTree(body.v)\n",
        "print(time.time() - start_time)\n",
        "mesh_cloth = Mesh(filename='/content/drive/MyDrive/predicted_exp.obj')\n",
        "vertices = mesh_cloth.v\n",
        "# distances, indices = kdtree.query(vertices)\n",
        "# print(time.time() - start_time)\n",
        "for i in range(6716):\n",
        "  distances[i], indices[i] = kdtree.query(vertices[i])\n",
        "print(time.time() - start_time)\n"
      ],
      "metadata": {
        "colab": {
          "base_uri": "https://localhost:8080/"
        },
        "id": "y8QtTNYa4dgR",
        "outputId": "6934042f-4fdf-494e-c794-9a8d23981e1c"
      },
      "execution_count": null,
      "outputs": [
        {
          "output_type": "stream",
          "name": "stdout",
          "text": [
            "0.004909992218017578\n",
            "0.22987031936645508\n"
          ]
        }
      ]
    },
    {
      "cell_type": "code",
      "source": [
        "a = []\n",
        "for i in range(len(indices)):\n",
        "        b = [indices[i], indices[i] + 1, indices[i]+2, indices[i]+3, indices[i]+4, indices[i]+5, indices[i]+6, indices[i]+7, indices[i]+8,indices[i]+9]\n",
        "        a.append(b)\n",
        "        "
      ],
      "metadata": {
        "id": "N6ukj9qM4IPR"
      },
      "execution_count": null,
      "outputs": []
    },
    {
      "cell_type": "code",
      "source": [
        "a[1]"
      ],
      "metadata": {
        "colab": {
          "base_uri": "https://localhost:8080/"
        },
        "id": "NLbvEIkD5Ec-",
        "outputId": "00ffa554-4331-4e61-87d6-3af5e5316230"
      },
      "execution_count": null,
      "outputs": [
        {
          "output_type": "execute_result",
          "data": {
            "text/plain": [
              "[8233, 8234, 8235, 8236, 8237, 8238, 8239, 8240, 8241, 8242]"
            ]
          },
          "metadata": {},
          "execution_count": 11
        }
      ]
    },
    {
      "cell_type": "code",
      "source": [
        "np.save('/content/vertex2vertex.npy', a)\n"
      ],
      "metadata": {
        "id": "KUt-eGlx5ELJ"
      },
      "execution_count": null,
      "outputs": []
    },
    {
      "cell_type": "code",
      "source": [
        "for i in range(len())\n"
      ],
      "metadata": {
        "id": "UMppS4x549ku"
      },
      "execution_count": null,
      "outputs": []
    },
    {
      "cell_type": "markdown",
      "source": [
        "## Naive interpenetration"
      ],
      "metadata": {
        "id": "X8hcFw0wU_mI"
      }
    },
    {
      "cell_type": "code",
      "source": [
        "import numpy as np\n",
        "\n",
        "import scipy.sparse as sp\n",
        "from scipy.sparse import vstack, csr_matrix\n",
        "from scipy.sparse.linalg import spsolve   # ILNumerics\n",
        "from psbody.mesh import Mesh\n",
        "\n",
        "from psbody.mesh import Mesh\n",
        "from psbody.mesh.geometry.vert_normals import VertNormals\n",
        "from psbody.mesh.geometry.tri_normals import TriNormals\n",
        "from psbody.mesh.search import AabbTree\n",
        "from utils.diffusion_smoothing import numpy_laplacian_uniform as laplacian\n",
        "\n",
        "import time \n",
        "def get_nearest_points_and_normals(vert, base_verts, base_faces):\n",
        "    \"\"\"For each vertex of `vert`, find nearest surface points on\n",
        "    base mesh (`base_verts`, `base_faces`).\n",
        "    \"\"\"\n",
        "    fn = TriNormals(v=base_verts, f=base_faces).reshape((-1, 3))\n",
        "    #print(\"fn\", fn)\n",
        "    vn = VertNormals(v=base_verts, f=base_faces).reshape((-1, 3))\n",
        "    #print(\"vn\", vn)\n",
        "    #start_time = time.time()\n",
        "    tree = AabbTree(Mesh(v=base_verts, f=base_faces))\n",
        "    \n",
        "    #print(time.time()- start_time)\n",
        "    nearest_tri, nearest_part, nearest_point = tree.nearest(vert, nearest_part=True)\n",
        "    #print(nearest_point)\n",
        "    #print(nearest_tri)\n",
        "    #print(nearest_tri.shape)\n",
        "    #print(time.time() - start_time)\n",
        "    nearest_tri = nearest_tri.ravel().astype(np.long)\n",
        "    nearest_part = nearest_part.ravel().astype(np.long)\n",
        "\n",
        "    nearest_normals = np.zeros_like(vert)\n",
        "\n",
        "    # nearest_part tells you whether the closest point in triangle abc is\n",
        "    # in the interior (0), on an edge (ab:1,bc:2,ca:3), or a vertex (a:4,b:5,c:6)\n",
        "    cl_tri_idxs = np.nonzero(nearest_part == 0)[0].astype(np.int)\n",
        "    print(cl_tri_idxs)\n",
        "    print(cl_tri_idxs.shape)\n",
        "    cl_vrt_idxs = np.nonzero(nearest_part > 3)[0].astype(np.int)\n",
        "    print(cl_vrt_idxs)\n",
        "    print(cl_vrt_idxs.shape)\n",
        "    cl_edg_idxs = np.nonzero((nearest_part <= 3) & (nearest_part > 0))[0].astype(np.int)\n",
        "    print(cl_edg_idxs)\n",
        "    print(cl_edg_idxs.shape)\n",
        "\n",
        "    nt = nearest_tri[cl_tri_idxs]\n",
        "    print(nt)\n",
        "    nearest_normals[cl_tri_idxs] = fn[nt]\n",
        "\n",
        "    nt = nearest_tri[cl_vrt_idxs]\n",
        "    npp = nearest_part[cl_vrt_idxs] - 4\n",
        "    nearest_normals[cl_vrt_idxs] = vn[base_faces[nt, npp]]\n",
        "\n",
        "    nt = nearest_tri[cl_edg_idxs]\n",
        "    npp = nearest_part[cl_edg_idxs] - 1\n",
        "    nearest_normals[cl_edg_idxs] += vn[base_faces[nt, npp]]\n",
        "    npp = np.mod(nearest_part[cl_edg_idxs], 3)\n",
        "    nearest_normals[cl_edg_idxs] += vn[base_faces[nt, npp]]\n",
        "\n",
        "    nearest_normals = nearest_normals / (np.linalg.norm(nearest_normals, axis=-1, keepdims=True) + 1.e-10)\n",
        "\n",
        "    return nearest_point, nearest_normals\n",
        "\n",
        "\n",
        "def remove_interpenetration_fast(mesh, base, L=None):\n",
        "    \"\"\"Deforms `mesh` to remove its interpenetration from `base`.\n",
        "    This is posed as least square optimization problem which can be solved\n",
        "    faster with sparse solver.\n",
        "    \"\"\"\n",
        "\n",
        "    eps = 0.01\n",
        "    ww = 2.0\n",
        "    nverts = mesh.v.shape[0]\n",
        "\n",
        "    if L is None:\n",
        "        L = laplacian(mesh.v, mesh.f)\n",
        "\n",
        "    nearest_points, nearest_normals = get_nearest_points_and_normals(mesh.v, base.v, base.f)\n",
        "    direction = np.sign( np.sum((mesh.v - nearest_points) * nearest_normals, axis=-1) )\n",
        "\n",
        "    indices = np.where(direction < 0)[0]\n",
        "    print(indices)\n",
        "    for index in indices:\n",
        "      mesh.v[index] = nearest_points[index]+ 0.1\n",
        "    mres = Mesh(v=mesh.v, f=mesh.f)\n",
        "\n",
        "    # pentgt_points = nearest_points[indices] - mesh.v[indices]\n",
        "    # pentgt_points = nearest_points[indices] \\\n",
        "    #                 + eps * pentgt_points / np.expand_dims(0.0001 + np.linalg.norm(pentgt_points, axis=1), 1)\n",
        "    # tgt_points = mesh.v.copy()\n",
        "    # tgt_points[indices] = ww * pentgt_points\n",
        "\n",
        "    # rc = np.arange(nverts)\n",
        "    # data = np.ones(nverts)\n",
        "    # data[indices] *= ww\n",
        "    # #np.save('/content/data.npy', data)\n",
        "    # I = csr_matrix((data, (rc, rc)), shape=(nverts, nverts))\n",
        "    # #print(I.shape)\n",
        "\n",
        "    # A = vstack([L, I])\n",
        "    # b = np.vstack((\n",
        "    #     L.dot(mesh.v),\n",
        "    #     tgt_points\n",
        "    # ))\n",
        "    # #np.save('/content/matrix.npy', I)\n",
        "    # start_time = time.time()\n",
        "    # res = spsolve(A.T.dot(A), A.T.dot(b))\n",
        "    # print(time.time() - start_time)\n",
        "    # mres = Mesh(v=res, f=mesh.f)\n",
        "    return mres"
      ],
      "metadata": {
        "id": "-pEPElBQRuia"
      },
      "execution_count": null,
      "outputs": []
    },
    {
      "cell_type": "code",
      "source": [
        "body = Mesh(filename='/content/drive/MyDrive/1.obj')\n",
        "mesh = Mesh(filename='/content/drive/MyDrive/predicted_exp.obj')\n",
        "nearest_points, nearest_normals = get_nearest_points_and_normals(mesh.v, body.v, body.f)\n"
      ],
      "metadata": {
        "colab": {
          "base_uri": "https://localhost:8080/"
        },
        "id": "uV-8Mr0odkkb",
        "outputId": "ac7df61a-984c-4673-8edf-30877d296f7f"
      },
      "execution_count": null,
      "outputs": [
        {
          "output_type": "stream",
          "name": "stdout",
          "text": [
            "[   0    1    3 ... 6713 6714 6715]\n",
            "(5571,)\n",
            "[ 335  376  441  791  823  838 1045 1892 2869 2950 3155 3157 3159 3206\n",
            " 3772 4049 4267 4419 4424 4437 4574 4580 4583 4834 4922 5560 6317 6448\n",
            " 6461 6469 6514 6515 6537 6538 6641 6658]\n",
            "(36,)\n",
            "[   2   20   32 ... 6709 6710 6711]\n",
            "(1109,)\n",
            "[ 8726  8722  8729 ... 13664 18163 13793]\n"
          ]
        },
        {
          "output_type": "stream",
          "name": "stderr",
          "text": [
            "/usr/local/lib/python3.7/dist-packages/ipykernel_launcher.py:32: DeprecationWarning: `np.long` is a deprecated alias for `np.compat.long`. To silence this warning, use `np.compat.long` by itself. In the likely event your code does not need to work on Python 2 you can use the builtin `int` for which `np.compat.long` is itself an alias. Doing this will not modify any behaviour and is safe. When replacing `np.long`, you may wish to use e.g. `np.int64` or `np.int32` to specify the precision. If you wish to review your current use, check the release note link for additional information.\n",
            "Deprecated in NumPy 1.20; for more details and guidance: https://numpy.org/devdocs/release/1.20.0-notes.html#deprecations\n",
            "/usr/local/lib/python3.7/dist-packages/ipykernel_launcher.py:33: DeprecationWarning: `np.long` is a deprecated alias for `np.compat.long`. To silence this warning, use `np.compat.long` by itself. In the likely event your code does not need to work on Python 2 you can use the builtin `int` for which `np.compat.long` is itself an alias. Doing this will not modify any behaviour and is safe. When replacing `np.long`, you may wish to use e.g. `np.int64` or `np.int32` to specify the precision. If you wish to review your current use, check the release note link for additional information.\n",
            "Deprecated in NumPy 1.20; for more details and guidance: https://numpy.org/devdocs/release/1.20.0-notes.html#deprecations\n",
            "/usr/local/lib/python3.7/dist-packages/ipykernel_launcher.py:39: DeprecationWarning: `np.int` is a deprecated alias for the builtin `int`. To silence this warning, use `int` by itself. Doing this will not modify any behavior and is safe. When replacing `np.int`, you may wish to use e.g. `np.int64` or `np.int32` to specify the precision. If you wish to review your current use, check the release note link for additional information.\n",
            "Deprecated in NumPy 1.20; for more details and guidance: https://numpy.org/devdocs/release/1.20.0-notes.html#deprecations\n",
            "/usr/local/lib/python3.7/dist-packages/ipykernel_launcher.py:42: DeprecationWarning: `np.int` is a deprecated alias for the builtin `int`. To silence this warning, use `int` by itself. Doing this will not modify any behavior and is safe. When replacing `np.int`, you may wish to use e.g. `np.int64` or `np.int32` to specify the precision. If you wish to review your current use, check the release note link for additional information.\n",
            "Deprecated in NumPy 1.20; for more details and guidance: https://numpy.org/devdocs/release/1.20.0-notes.html#deprecations\n",
            "/usr/local/lib/python3.7/dist-packages/ipykernel_launcher.py:45: DeprecationWarning: `np.int` is a deprecated alias for the builtin `int`. To silence this warning, use `int` by itself. Doing this will not modify any behavior and is safe. When replacing `np.int`, you may wish to use e.g. `np.int64` or `np.int32` to specify the precision. If you wish to review your current use, check the release note link for additional information.\n",
            "Deprecated in NumPy 1.20; for more details and guidance: https://numpy.org/devdocs/release/1.20.0-notes.html#deprecations\n"
          ]
        }
      ]
    },
    {
      "cell_type": "code",
      "source": [],
      "metadata": {
        "id": "_klAQI9f4jlm"
      },
      "execution_count": null,
      "outputs": []
    },
    {
      "cell_type": "code",
      "source": [
        "nearest_points[0]\n"
      ],
      "metadata": {
        "colab": {
          "base_uri": "https://localhost:8080/"
        },
        "id": "fdnpT5z2xNu9",
        "outputId": "34ec9a35-e579-4501-fc42-96ce6cc552b8"
      },
      "execution_count": null,
      "outputs": [
        {
          "output_type": "execute_result",
          "data": {
            "text/plain": [
              "array([-0.15373073, -3.28210668,  1.45027695])"
            ]
          },
          "metadata": {},
          "execution_count": 26
        }
      ]
    },
    {
      "cell_type": "markdown",
      "source": [
        "## Nearest points"
      ],
      "metadata": {
        "id": "Q07jgjukVCwn"
      }
    },
    {
      "cell_type": "code",
      "source": [
        "import numpy as np\n",
        "\n",
        "import scipy.sparse as sp\n",
        "from scipy.sparse import vstack, csr_matrix\n",
        "from scipy.sparse.linalg import spsolve   # ILNumerics\n",
        "from psbody.mesh import Mesh\n",
        "\n",
        "from psbody.mesh import Mesh\n",
        "from psbody.mesh.geometry.vert_normals import VertNormals\n",
        "from psbody.mesh.geometry.tri_normals import TriNormals\n",
        "from psbody.mesh.search import AabbTree\n",
        "from utils.diffusion_smoothing import numpy_laplacian_uniform as laplacian\n",
        "\n",
        "\n",
        "import time \n",
        "def get_nearest_points_and_normals(vert, base_verts, base_faces):\n",
        "    \"\"\"For each vertex of `vert`, find nearest surface points on\n",
        "    base mesh (`base_verts`, `base_faces`).\n",
        "    \"\"\"\n",
        "    fn = TriNormals(v=base_verts, f=base_faces).reshape((-1, 3))\n",
        "    #print(\"fn\", fn)\n",
        "    \n",
        "    #print(\"vn\", vn)vn = VertNormals(v=base_verts, f=base_faces).reshape((-1, 3))\n",
        "    #start_time = time.time()\n",
        "    tree = AabbTree(Mesh(v=base_verts, f=base_faces))\n",
        "    #print(time.time()- start_time)\n",
        "    nearest_tri, nearest_part, nearest_point, nearest_normal = tree.nearest(vert, nearest_part=True)\n",
        "    print(nearest_point)\n",
        "    #print(time.time() - start_time)\n",
        "    nearest_tri = nearest_tri.ravel().astype(np.long)\n",
        "    nearest_part = nearest_part.ravel().astype(np.long)\n",
        "\n",
        "    #nearest_normals = \n",
        "\n",
        "    nearest_normals = np.zeros_like(vert)\n",
        "\n",
        "    # nearest_part tells you whether the closest point in triangle abc is\n",
        "    # in the interior (0), on an edge (ab:1,bc:2,ca:3), or a vertex (a:4,b:5,c:6)\n",
        "    cl_tri_idxs = np.nonzero(nearest_part == 0)[0].astype(np.int)\n",
        "    cl_vrt_idxs = np.nonzero(nearest_part > 3)[0].astype(np.int)\n",
        "    cl_edg_idxs = np.nonzero((nearest_part <= 3) & (nearest_part > 0))[0].astype(np.int)\n",
        "\n",
        "    nt = nearest_tri[cl_tri_idxs]\n",
        "    nearest_normals[cl_tri_idxs] = fn[nt]\n",
        "\n",
        "    nt = nearest_tri[cl_vrt_idxs]\n",
        "    npp = nearest_part[cl_vrt_idxs] - 4\n",
        "    nearest_normals[cl_vrt_idxs] = vn[base_faces[nt, npp]]\n",
        "\n",
        "    nt = nearest_tri[cl_edg_idxs]\n",
        "    npp = nearest_part[cl_edg_idxs] - 1\n",
        "    nearest_normals[cl_edg_idxs] += vn[base_faces[nt, npp]]\n",
        "    npp = np.mod(nearest_part[cl_edg_idxs], 3)\n",
        "    nearest_normals[cl_edg_idxs] += vn[base_faces[nt, npp]]\n",
        "\n",
        "    nearest_normals = nearest_normals / (np.linalg.norm(nearest_normals, axis=-1, keepdims=True) + 1.e-10)\n",
        "\n",
        "    return nearest_point, nearest_normals\n",
        "\n",
        "\n",
        "def remove_interpenetration_fast(mesh, base, L=None):\n",
        "    \"\"\"Deforms `mesh` to remove its interpenetration from `base`.\n",
        "    This is posed as least square optimization problem which can be solved\n",
        "    faster with sparse solver.\n",
        "    \"\"\"\n",
        "\n",
        "    eps = 0.01\n",
        "    ww = 2.0\n",
        "    nverts = mesh.v.shape[0]\n",
        "\n",
        "    if L is None:\n",
        "        L = laplacian(mesh.v, mesh.f)\n",
        "\n",
        "    nearest_points, nearest_normals = get_nearest_points_and_normals(mesh.v, base.v, base.f)\n",
        "    direction = np.sign( np.sum((mesh.v - nearest_points) * nearest_normals, axis=-1) )\n",
        "\n",
        "    indices = np.where(direction < 0)[0]\n",
        "    print(indices)\n",
        "    for index in indices:\n",
        "      mesh.v[index] = nearest_points[index]+ 0.1\n",
        "      #main\n",
        "    \n",
        "\n",
        "    mres = Mesh(v=mesh.v, f=mesh.f)\n",
        "\n",
        "    # pentgt_points = nearest_points[indices] - mesh.v[indices]\n",
        "    # pentgt_points = nearest_points[indices] \\\n",
        "    #                 + eps * pentgt_points / np.expand_dims(0.0001 + np.linalg.norm(pentgt_points, axis=1), 1)\n",
        "    # tgt_points = mesh.v.copy()\n",
        "    # tgt_points[indices] = ww * pentgt_points\n",
        "\n",
        "    # rc = np.arange(nverts)\n",
        "    # data = np.ones(nverts)\n",
        "    # data[indices] *= ww\n",
        "    # #np.save('/content/data.npy', data)\n",
        "    # I = csr_matrix((data, (rc, rc)), shape=(nverts, nverts))\n",
        "    # #print(I.shape)\n",
        "\n",
        "    # A = vstack([L, I])\n",
        "    # b = np.vstack((\n",
        "    #     L.dot(mesh.v),\n",
        "    #     tgt_points\n",
        "    # ))\n",
        "    # #np.save('/content/matrix.npy', I)\n",
        "    # start_time = time.time()\n",
        "    # res = spsolve(A.T.dot(A), A.T.dot(b))\n",
        "    # print(time.time() - start_time)\n",
        "    # mres = Mesh(v=res, f=mesh.f)\n",
        "    return mres\n",
        "  \n"
      ],
      "metadata": {
        "id": "S8ff_OjsVHCy"
      },
      "execution_count": null,
      "outputs": []
    },
    {
      "cell_type": "code",
      "source": [
        "nearest_indices = np.load('/content/nearest_indices.npy')\n",
        "\n"
      ],
      "metadata": {
        "id": "sgKt8TlsoUWE"
      },
      "execution_count": null,
      "outputs": []
    },
    {
      "cell_type": "code",
      "source": [
        "body = Mesh(filename='/content/drive/MyDrive/1.obj')\n",
        "mesh = Mesh(filename='/content/drive/MyDrive/predicted_exp.obj')\n",
        "nearest_points, nearest_normals = get_nearest_points_and_normals(mesh.v, body.v, body.f)"
      ],
      "metadata": {
        "colab": {
          "base_uri": "https://localhost:8080/"
        },
        "id": "NV2-i_BhdFP9",
        "outputId": "720445f5-ec0e-46c0-c8af-ecc98c1aee91"
      },
      "execution_count": null,
      "outputs": [
        {
          "output_type": "stream",
          "name": "stdout",
          "text": [
            "[   0    1    3 ... 6713 6714 6715]\n",
            "(5571,)\n"
          ]
        },
        {
          "output_type": "stream",
          "name": "stderr",
          "text": [
            "/usr/local/lib/python3.7/dist-packages/ipykernel_launcher.py:28: DeprecationWarning: `np.long` is a deprecated alias for `np.compat.long`. To silence this warning, use `np.compat.long` by itself. In the likely event your code does not need to work on Python 2 you can use the builtin `int` for which `np.compat.long` is itself an alias. Doing this will not modify any behaviour and is safe. When replacing `np.long`, you may wish to use e.g. `np.int64` or `np.int32` to specify the precision. If you wish to review your current use, check the release note link for additional information.\n",
            "Deprecated in NumPy 1.20; for more details and guidance: https://numpy.org/devdocs/release/1.20.0-notes.html#deprecations\n",
            "/usr/local/lib/python3.7/dist-packages/ipykernel_launcher.py:29: DeprecationWarning: `np.long` is a deprecated alias for `np.compat.long`. To silence this warning, use `np.compat.long` by itself. In the likely event your code does not need to work on Python 2 you can use the builtin `int` for which `np.compat.long` is itself an alias. Doing this will not modify any behaviour and is safe. When replacing `np.long`, you may wish to use e.g. `np.int64` or `np.int32` to specify the precision. If you wish to review your current use, check the release note link for additional information.\n",
            "Deprecated in NumPy 1.20; for more details and guidance: https://numpy.org/devdocs/release/1.20.0-notes.html#deprecations\n",
            "/usr/local/lib/python3.7/dist-packages/ipykernel_launcher.py:35: DeprecationWarning: `np.int` is a deprecated alias for the builtin `int`. To silence this warning, use `int` by itself. Doing this will not modify any behavior and is safe. When replacing `np.int`, you may wish to use e.g. `np.int64` or `np.int32` to specify the precision. If you wish to review your current use, check the release note link for additional information.\n",
            "Deprecated in NumPy 1.20; for more details and guidance: https://numpy.org/devdocs/release/1.20.0-notes.html#deprecations\n",
            "/usr/local/lib/python3.7/dist-packages/ipykernel_launcher.py:38: DeprecationWarning: `np.int` is a deprecated alias for the builtin `int`. To silence this warning, use `int` by itself. Doing this will not modify any behavior and is safe. When replacing `np.int`, you may wish to use e.g. `np.int64` or `np.int32` to specify the precision. If you wish to review your current use, check the release note link for additional information.\n",
            "Deprecated in NumPy 1.20; for more details and guidance: https://numpy.org/devdocs/release/1.20.0-notes.html#deprecations\n",
            "/usr/local/lib/python3.7/dist-packages/ipykernel_launcher.py:39: DeprecationWarning: `np.int` is a deprecated alias for the builtin `int`. To silence this warning, use `int` by itself. Doing this will not modify any behavior and is safe. When replacing `np.int`, you may wish to use e.g. `np.int64` or `np.int32` to specify the precision. If you wish to review your current use, check the release note link for additional information.\n",
            "Deprecated in NumPy 1.20; for more details and guidance: https://numpy.org/devdocs/release/1.20.0-notes.html#deprecations\n"
          ]
        }
      ]
    },
    {
      "cell_type": "code",
      "source": [
        "\n",
        "body = Mesh(filename='/content/drive/MyDrive/1_000001.obj')\n",
        "mesh = Mesh(filename='/content/drive/MyDrive/anim_out/anim_cloth_0.obj')\n",
        "import time\n",
        "start_time = time.time()\n",
        "tree = AabbTree(Mesh(v=body.v, f=body.f))\n",
        "print(tree)\n",
        "nearest_tri, nearest_part, nearest_point = tree.nearest(mesh.v, nearest_part=True)\n",
        "print(time.time() - start_time)"
      ],
      "metadata": {
        "id": "NTaAWoIJdAWp",
        "colab": {
          "base_uri": "https://localhost:8080/"
        },
        "outputId": "0eddcab6-3c9d-453c-c58e-93e08ab0bd8e"
      },
      "execution_count": null,
      "outputs": [
        {
          "output_type": "stream",
          "name": "stdout",
          "text": [
            "<psbody.mesh.search.AabbTree object at 0x7f0bc5d68810>\n",
            "0.057584524154663086\n"
          ]
        }
      ]
    },
    {
      "cell_type": "code",
      "source": [
        "nearest_tri\n",
        "np.save('/content/nearest_tri.npy', nearest_tri)"
      ],
      "metadata": {
        "id": "mrH4QTVYud9_"
      },
      "execution_count": null,
      "outputs": []
    },
    {
      "cell_type": "code",
      "source": [
        "1/0.04"
      ],
      "metadata": {
        "id": "ROos-91dmKbL",
        "colab": {
          "base_uri": "https://localhost:8080/"
        },
        "outputId": "162110da-5043-44a3-c689-2866d88e683e"
      },
      "execution_count": null,
      "outputs": [
        {
          "output_type": "execute_result",
          "data": {
            "text/plain": [
              "25.0"
            ]
          },
          "metadata": {},
          "execution_count": 8
        }
      ]
    },
    {
      "cell_type": "code",
      "source": [
        "import time \n",
        "start_time = time.time()\n",
        "L = laplacian(mesh.v, mesh.f)\n",
        "print(time.time() - start_time)\n",
        "body.v.shape\n"
      ],
      "metadata": {
        "colab": {
          "base_uri": "https://localhost:8080/"
        },
        "id": "peBRFPrMuEyc",
        "outputId": "6008453a-6ac9-4f6e-fee5-e90ec37a6a87"
      },
      "execution_count": null,
      "outputs": [
        {
          "output_type": "stream",
          "name": "stdout",
          "text": [
            "0.017035484313964844\n"
          ]
        },
        {
          "output_type": "execute_result",
          "data": {
            "text/plain": [
              "(10475, 3)"
            ]
          },
          "metadata": {},
          "execution_count": 9
        }
      ]
    },
    {
      "cell_type": "code",
      "source": [
        "import time\n",
        "#start_time_int = time.time()\n",
        "body = Mesh(filename='/content/drive/MyDrive/1.obj')\n",
        "mesh = Mesh(filename='/content/drive/MyDrive/predicted_exp.obj')\n",
        "start_time_int = time.time()\n",
        "mesh1 = remove_interpenetration_fast(mesh, body)\n",
        "\n",
        "mesh1.write_obj('/content/gar_naive_2.obj')\n",
        "\n",
        "#end_time = time.time()\n",
        "print(time.time() - start_time_int)"
      ],
      "metadata": {
        "colab": {
          "base_uri": "https://localhost:8080/"
        },
        "id": "OFEuUCeigSNV",
        "outputId": "7d1ed171-e055-40f2-dd19-3e9f11ae7e64"
      },
      "execution_count": null,
      "outputs": [
        {
          "output_type": "stream",
          "name": "stdout",
          "text": [
            "[   0    1    3 ... 6713 6714 6715]\n",
            "(5571,)\n",
            "[ 335  376  441  791  823  838 1045 1892 2869 2950 3155 3157 3159 3206\n",
            " 3772 4049 4267 4419 4424 4437 4574 4580 4583 4834 4922 5560 6317 6448\n",
            " 6461 6469 6514 6515 6537 6538 6641 6658]\n",
            "(36,)\n",
            "[   2   20   32 ... 6709 6710 6711]\n",
            "(1109,)\n",
            "[ 8726  8722  8729 ... 13664 18163 13793]\n",
            "[  59   77  144  145  147  148 1362 1365 1922 2656 2657 2665 2666 2674\n",
            " 2675 2750 2756 2757 2761 2762 2767 3467 3468 3472 3531 3532 3533 3534\n",
            " 3540 4720 4753 5992 6075 6079 6080 6081 6083 6084 6086 6090]\n",
            "0.10836410522460938\n"
          ]
        },
        {
          "output_type": "stream",
          "name": "stderr",
          "text": [
            "/usr/local/lib/python3.7/dist-packages/ipykernel_launcher.py:32: DeprecationWarning: `np.long` is a deprecated alias for `np.compat.long`. To silence this warning, use `np.compat.long` by itself. In the likely event your code does not need to work on Python 2 you can use the builtin `int` for which `np.compat.long` is itself an alias. Doing this will not modify any behaviour and is safe. When replacing `np.long`, you may wish to use e.g. `np.int64` or `np.int32` to specify the precision. If you wish to review your current use, check the release note link for additional information.\n",
            "Deprecated in NumPy 1.20; for more details and guidance: https://numpy.org/devdocs/release/1.20.0-notes.html#deprecations\n",
            "/usr/local/lib/python3.7/dist-packages/ipykernel_launcher.py:33: DeprecationWarning: `np.long` is a deprecated alias for `np.compat.long`. To silence this warning, use `np.compat.long` by itself. In the likely event your code does not need to work on Python 2 you can use the builtin `int` for which `np.compat.long` is itself an alias. Doing this will not modify any behaviour and is safe. When replacing `np.long`, you may wish to use e.g. `np.int64` or `np.int32` to specify the precision. If you wish to review your current use, check the release note link for additional information.\n",
            "Deprecated in NumPy 1.20; for more details and guidance: https://numpy.org/devdocs/release/1.20.0-notes.html#deprecations\n",
            "/usr/local/lib/python3.7/dist-packages/ipykernel_launcher.py:39: DeprecationWarning: `np.int` is a deprecated alias for the builtin `int`. To silence this warning, use `int` by itself. Doing this will not modify any behavior and is safe. When replacing `np.int`, you may wish to use e.g. `np.int64` or `np.int32` to specify the precision. If you wish to review your current use, check the release note link for additional information.\n",
            "Deprecated in NumPy 1.20; for more details and guidance: https://numpy.org/devdocs/release/1.20.0-notes.html#deprecations\n",
            "/usr/local/lib/python3.7/dist-packages/ipykernel_launcher.py:42: DeprecationWarning: `np.int` is a deprecated alias for the builtin `int`. To silence this warning, use `int` by itself. Doing this will not modify any behavior and is safe. When replacing `np.int`, you may wish to use e.g. `np.int64` or `np.int32` to specify the precision. If you wish to review your current use, check the release note link for additional information.\n",
            "Deprecated in NumPy 1.20; for more details and guidance: https://numpy.org/devdocs/release/1.20.0-notes.html#deprecations\n",
            "/usr/local/lib/python3.7/dist-packages/ipykernel_launcher.py:45: DeprecationWarning: `np.int` is a deprecated alias for the builtin `int`. To silence this warning, use `int` by itself. Doing this will not modify any behavior and is safe. When replacing `np.int`, you may wish to use e.g. `np.int64` or `np.int32` to specify the precision. If you wish to review your current use, check the release note link for additional information.\n",
            "Deprecated in NumPy 1.20; for more details and guidance: https://numpy.org/devdocs/release/1.20.0-notes.html#deprecations\n"
          ]
        }
      ]
    },
    {
      "cell_type": "code",
      "source": [
        "import time\n",
        "#start_time_int = time.time()\n",
        "body = Mesh(filename='/content/drive/MyDrive/1.obj')\n",
        "mesh = Mesh(filename='/content/drive/MyDrive/predicted_exp.obj')\n",
        "start_time_int = time.time()\n",
        "mesh1 = remove_interpenetration_fast(mesh, body)\n",
        "\n",
        "mesh1.write_obj('/content/gar_naive_2.obj')\n",
        "\n",
        "#end_time = time.time()\n",
        "print(time.time() - start_time_int)"
      ],
      "metadata": {
        "colab": {
          "base_uri": "https://localhost:8080/"
        },
        "id": "hXpd2-1OQB8-",
        "outputId": "73d4e295-84c5-4271-ee7f-38df4f4e6c9e"
      },
      "execution_count": null,
      "outputs": [
        {
          "output_type": "stream",
          "name": "stdout",
          "text": [
            "[  59   77  144  145  147  148 1362 1365 1922 2656 2657 2665 2666 2674\n",
            " 2675 2750 2756 2757 2761 2762 2767 3467 3468 3472 3531 3532 3533 3534\n",
            " 3540 4720 4753 5992 6075 6079 6080 6081 6083 6084 6086 6090]\n",
            "0.24290919303894043\n"
          ]
        },
        {
          "output_type": "stream",
          "name": "stderr",
          "text": [
            "/usr/local/lib/python3.7/dist-packages/ipykernel_launcher.py:28: DeprecationWarning: `np.long` is a deprecated alias for `np.compat.long`. To silence this warning, use `np.compat.long` by itself. In the likely event your code does not need to work on Python 2 you can use the builtin `int` for which `np.compat.long` is itself an alias. Doing this will not modify any behaviour and is safe. When replacing `np.long`, you may wish to use e.g. `np.int64` or `np.int32` to specify the precision. If you wish to review your current use, check the release note link for additional information.\n",
            "Deprecated in NumPy 1.20; for more details and guidance: https://numpy.org/devdocs/release/1.20.0-notes.html#deprecations\n",
            "/usr/local/lib/python3.7/dist-packages/ipykernel_launcher.py:29: DeprecationWarning: `np.long` is a deprecated alias for `np.compat.long`. To silence this warning, use `np.compat.long` by itself. In the likely event your code does not need to work on Python 2 you can use the builtin `int` for which `np.compat.long` is itself an alias. Doing this will not modify any behaviour and is safe. When replacing `np.long`, you may wish to use e.g. `np.int64` or `np.int32` to specify the precision. If you wish to review your current use, check the release note link for additional information.\n",
            "Deprecated in NumPy 1.20; for more details and guidance: https://numpy.org/devdocs/release/1.20.0-notes.html#deprecations\n",
            "/usr/local/lib/python3.7/dist-packages/ipykernel_launcher.py:35: DeprecationWarning: `np.int` is a deprecated alias for the builtin `int`. To silence this warning, use `int` by itself. Doing this will not modify any behavior and is safe. When replacing `np.int`, you may wish to use e.g. `np.int64` or `np.int32` to specify the precision. If you wish to review your current use, check the release note link for additional information.\n",
            "Deprecated in NumPy 1.20; for more details and guidance: https://numpy.org/devdocs/release/1.20.0-notes.html#deprecations\n",
            "/usr/local/lib/python3.7/dist-packages/ipykernel_launcher.py:36: DeprecationWarning: `np.int` is a deprecated alias for the builtin `int`. To silence this warning, use `int` by itself. Doing this will not modify any behavior and is safe. When replacing `np.int`, you may wish to use e.g. `np.int64` or `np.int32` to specify the precision. If you wish to review your current use, check the release note link for additional information.\n",
            "Deprecated in NumPy 1.20; for more details and guidance: https://numpy.org/devdocs/release/1.20.0-notes.html#deprecations\n",
            "/usr/local/lib/python3.7/dist-packages/ipykernel_launcher.py:37: DeprecationWarning: `np.int` is a deprecated alias for the builtin `int`. To silence this warning, use `int` by itself. Doing this will not modify any behavior and is safe. When replacing `np.int`, you may wish to use e.g. `np.int64` or `np.int32` to specify the precision. If you wish to review your current use, check the release note link for additional information.\n",
            "Deprecated in NumPy 1.20; for more details and guidance: https://numpy.org/devdocs/release/1.20.0-notes.html#deprecations\n"
          ]
        }
      ]
    },
    {
      "cell_type": "code",
      "source": [
        "L"
      ],
      "metadata": {
        "colab": {
          "base_uri": "https://localhost:8080/"
        },
        "id": "jFE9TIENuUwm",
        "outputId": "6674376e-5d80-4f7e-e71a-ae8bb442ae2f"
      },
      "execution_count": null,
      "outputs": [
        {
          "output_type": "execute_result",
          "data": {
            "text/plain": [
              "<6716x6716 sparse matrix of type '<class 'numpy.float64'>'\n",
              "\twith 46488 stored elements in Compressed Sparse Row format>"
            ]
          },
          "metadata": {},
          "execution_count": 78
        }
      ]
    },
    {
      "cell_type": "code",
      "source": [
        "def numpy_laplacian_uniform(v, f):\n",
        "    \"\"\"Computes uniform laplacian operator on mesh.\"\"\"\n",
        "    import scipy.sparse as sp\n",
        "    from sklearn.preprocessing import normalize\n",
        "    from psbody.mesh.topology.connectivity import get_vert_connectivity\n",
        "\n",
        "    connectivity = get_vert_connectivity(Mesh(v=v, f=f))\n",
        "    # connectivity is a sparse matrix, and np.clip can not applied directly on\n",
        "    # a sparse matrix.\n",
        "    connectivity.data = np.clip(connectivity.data, 0, 1)\n",
        "    lap = normalize(connectivity, norm='l1', axis=1)\n",
        "    lap = lap - sp.eye(connectivity.shape[0])\n",
        "\n",
        "    return lap"
      ],
      "metadata": {
        "id": "ZTk0hbLZxwA4"
      },
      "execution_count": null,
      "outputs": []
    },
    {
      "cell_type": "markdown",
      "source": [
        "## CSR matrix, vertical stack, sparsesolver for least square optimization problem\n"
      ],
      "metadata": {
        "id": "D6pvSymzyQmy"
      }
    },
    {
      "cell_type": "code",
      "source": [
        "\n",
        "\n",
        "tree = AabbTree(Mesh(v=base_verts, f=base_faces))\n"
      ],
      "metadata": {
        "id": "vHviQhkqhDXP"
      },
      "execution_count": null,
      "outputs": []
    },
    {
      "cell_type": "code",
      "source": [
        "w = 2, ep = 0.001"
      ],
      "metadata": {
        "id": "8Yh88dHmwGqG"
      },
      "execution_count": null,
      "outputs": []
    },
    {
      "cell_type": "code",
      "source": [
        "from scipy.spatial import KDTree\n",
        "body = Mesh(filename='/content/drive/MyDrive/1.obj')\n",
        "distances = [0]*6716\n",
        "indices = [0]*6716\n",
        "import time\n",
        "start_time = time.time()\n",
        "\n",
        "\n",
        "kdtree = KDTree(body.v)\n",
        "print(time.time() - start_time)\n",
        "mesh_cloth = Mesh(filename='/content/drive/MyDrive/predicted_exp.obj')\n",
        "vertices = mesh_cloth.v\n",
        "# distances, indices = kdtree.query(vertices)\n",
        "# print(time.time() - start_time)\n",
        "for i in range(6716):\n",
        "  distances[i], indices[i] = kdtree.query(vertices[i])\n",
        "print(time.time() - start_time)\n"
      ],
      "metadata": {
        "colab": {
          "base_uri": "https://localhost:8080/"
        },
        "id": "DIGiB5JYjcDw",
        "outputId": "eab12d15-4c35-484e-960b-4d948dd7b928"
      },
      "execution_count": null,
      "outputs": [
        {
          "output_type": "stream",
          "name": "stdout",
          "text": [
            "0.0070209503173828125\n",
            "0.4160747528076172\n"
          ]
        }
      ]
    },
    {
      "cell_type": "code",
      "source": [],
      "metadata": {
        "id": "8j2z5r3rm2yY"
      },
      "execution_count": null,
      "outputs": []
    },
    {
      "cell_type": "code",
      "source": [
        "indices\n",
        "np.save('/content/nearest_indices.npy', indices)"
      ],
      "metadata": {
        "id": "LqSuFE1EbLCP"
      },
      "execution_count": null,
      "outputs": []
    },
    {
      "cell_type": "code",
      "source": [
        "0.26/0.05"
      ],
      "metadata": {
        "id": "FrgjIYq-kV6d",
        "outputId": "493c0c09-68e3-4227-e6a5-0740edbaa42e",
        "colab": {
          "base_uri": "https://localhost:8080/"
        }
      },
      "execution_count": null,
      "outputs": [
        {
          "output_type": "execute_result",
          "data": {
            "text/plain": [
              "5.2"
            ]
          },
          "metadata": {},
          "execution_count": 12
        }
      ]
    },
    {
      "cell_type": "code",
      "source": [
        "1/0.05"
      ],
      "metadata": {
        "colab": {
          "base_uri": "https://localhost:8080/"
        },
        "id": "s_HkxC_-jju8",
        "outputId": "f8002ace-4f45-482d-c519-b01c67f1c13a"
      },
      "execution_count": null,
      "outputs": [
        {
          "output_type": "execute_result",
          "data": {
            "text/plain": [
              "20.0"
            ]
          },
          "metadata": {},
          "execution_count": 9
        }
      ]
    },
    {
      "cell_type": "code",
      "source": [
        "distances"
      ],
      "metadata": {
        "colab": {
          "base_uri": "https://localhost:8080/"
        },
        "id": "Tl2USqpp0dUJ",
        "outputId": "5839850d-aa74-43a0-960a-0459d753a6b8"
      },
      "execution_count": null,
      "outputs": [
        {
          "output_type": "execute_result",
          "data": {
            "text/plain": [
              "array([0.24547372, 0.23997595, 0.23243552, ..., 0.46294087, 0.14164311,\n",
              "       0.12230339])"
            ]
          },
          "metadata": {},
          "execution_count": 16
        }
      ]
    },
    {
      "cell_type": "code",
      "source": [
        "a = np.load('/content/data.npy',allow_pickle=True)\n",
        "b = 0\n",
        "for i in range(6716):\n",
        "  if a[i] == 1:\n",
        "    b = b+1 \n",
        "b"
      ],
      "metadata": {
        "colab": {
          "base_uri": "https://localhost:8080/"
        },
        "id": "AzQZ9quGTA05",
        "outputId": "833d7e63-7a01-4359-85c5-46a912fb955e"
      },
      "execution_count": null,
      "outputs": [
        {
          "output_type": "execute_result",
          "data": {
            "text/plain": [
              "6676"
            ]
          },
          "metadata": {},
          "execution_count": 31
        }
      ]
    },
    {
      "cell_type": "code",
      "source": [
        "6716 - 6676"
      ],
      "metadata": {
        "colab": {
          "base_uri": "https://localhost:8080/"
        },
        "id": "lJ5R7SprUzyj",
        "outputId": "8c7976c9-c065-4830-fecb-7008056824ff"
      },
      "execution_count": null,
      "outputs": [
        {
          "output_type": "execute_result",
          "data": {
            "text/plain": [
              "40"
            ]
          },
          "metadata": {},
          "execution_count": 32
        }
      ]
    },
    {
      "cell_type": "code",
      "source": [
        "import time\n",
        "#start_time = time.time()\n",
        "body = Mesh(filename='/content/drive/MyDrive/1.obj')\n",
        "mesh = Mesh(filename='/content/drive/MyDrive/predicted_exp.obj')\n",
        "nearest_indices = np.load('nearest_indices.npy')\n",
        "for i in range(6716):\n",
        "    "
      ],
      "metadata": {
        "id": "ofwlF7vPOU-i"
      },
      "execution_count": null,
      "outputs": []
    },
    {
      "cell_type": "code",
      "source": [
        "import time\n",
        "#start_time = time.time()\n",
        "body = Mesh(filename='/content/drive/MyDrive/1.obj')\n",
        "mesh = Mesh(filename='/content/drive/MyDrive/predicted_exp.obj')\n",
        "start_time = time.time()\n",
        "mesh1 = remove_interpenetration_fast(mesh, body, L)\n",
        "\n",
        "#mesh1.write_obj('/content/gar_20_.05.obj')\n",
        "\n",
        "#end_time = time.time()\n",
        "print(time.time() - start_time)\n",
        "\n",
        "# print(mesh.v.shape[0])\n",
        "# rc = np.arange(mesh.v.shape[0])\n",
        "# print(rc)"
      ],
      "metadata": {
        "colab": {
          "base_uri": "https://localhost:8080/"
        },
        "id": "NMRLqvoUsMms",
        "outputId": "c24fcd62-dc2c-40dc-bee2-49a219ff5a6b"
      },
      "execution_count": null,
      "outputs": [
        {
          "output_type": "stream",
          "name": "stderr",
          "text": [
            "/usr/local/lib/python3.7/dist-packages/ipykernel_launcher.py:36: DeprecationWarning: `np.long` is a deprecated alias for `np.compat.long`. To silence this warning, use `np.compat.long` by itself. In the likely event your code does not need to work on Python 2 you can use the builtin `int` for which `np.compat.long` is itself an alias. Doing this will not modify any behaviour and is safe. When replacing `np.long`, you may wish to use e.g. `np.int64` or `np.int32` to specify the precision. If you wish to review your current use, check the release note link for additional information.\n",
            "Deprecated in NumPy 1.20; for more details and guidance: https://numpy.org/devdocs/release/1.20.0-notes.html#deprecations\n",
            "/usr/local/lib/python3.7/dist-packages/ipykernel_launcher.py:37: DeprecationWarning: `np.long` is a deprecated alias for `np.compat.long`. To silence this warning, use `np.compat.long` by itself. In the likely event your code does not need to work on Python 2 you can use the builtin `int` for which `np.compat.long` is itself an alias. Doing this will not modify any behaviour and is safe. When replacing `np.long`, you may wish to use e.g. `np.int64` or `np.int32` to specify the precision. If you wish to review your current use, check the release note link for additional information.\n",
            "Deprecated in NumPy 1.20; for more details and guidance: https://numpy.org/devdocs/release/1.20.0-notes.html#deprecations\n",
            "/usr/local/lib/python3.7/dist-packages/ipykernel_launcher.py:42: DeprecationWarning: `np.int` is a deprecated alias for the builtin `int`. To silence this warning, use `int` by itself. Doing this will not modify any behavior and is safe. When replacing `np.int`, you may wish to use e.g. `np.int64` or `np.int32` to specify the precision. If you wish to review your current use, check the release note link for additional information.\n",
            "Deprecated in NumPy 1.20; for more details and guidance: https://numpy.org/devdocs/release/1.20.0-notes.html#deprecations\n",
            "/usr/local/lib/python3.7/dist-packages/ipykernel_launcher.py:43: DeprecationWarning: `np.int` is a deprecated alias for the builtin `int`. To silence this warning, use `int` by itself. Doing this will not modify any behavior and is safe. When replacing `np.int`, you may wish to use e.g. `np.int64` or `np.int32` to specify the precision. If you wish to review your current use, check the release note link for additional information.\n",
            "Deprecated in NumPy 1.20; for more details and guidance: https://numpy.org/devdocs/release/1.20.0-notes.html#deprecations\n",
            "/usr/local/lib/python3.7/dist-packages/ipykernel_launcher.py:44: DeprecationWarning: `np.int` is a deprecated alias for the builtin `int`. To silence this warning, use `int` by itself. Doing this will not modify any behavior and is safe. When replacing `np.int`, you may wish to use e.g. `np.int64` or `np.int32` to specify the precision. If you wish to review your current use, check the release note link for additional information.\n",
            "Deprecated in NumPy 1.20; for more details and guidance: https://numpy.org/devdocs/release/1.20.0-notes.html#deprecations\n"
          ]
        },
        {
          "output_type": "stream",
          "name": "stdout",
          "text": [
            "0.4241940975189209\n"
          ]
        }
      ]
    },
    {
      "cell_type": "code",
      "source": [
        "1/0.013433218002319336"
      ],
      "metadata": {
        "id": "aw6RdcD1h59i",
        "outputId": "729db3e1-d1f7-4a6a-ff76-762af60fd8c1",
        "colab": {
          "base_uri": "https://localhost:8080/"
        }
      },
      "execution_count": null,
      "outputs": [
        {
          "output_type": "execute_result",
          "data": {
            "text/plain": [
              "74.44232646468949"
            ]
          },
          "metadata": {},
          "execution_count": 63
        }
      ]
    },
    {
      "cell_type": "code",
      "source": [
        "mesh1.v"
      ],
      "metadata": {
        "colab": {
          "base_uri": "https://localhost:8080/"
        },
        "id": "MNQjNvubgY1l",
        "outputId": "ca659f02-ab82-46ac-e68e-5fcefbc757f8"
      },
      "execution_count": null,
      "outputs": [
        {
          "output_type": "execute_result",
          "data": {
            "text/plain": [
              "array([[-1.73853082e-01,  9.09436115e-01, -8.91082190e-03],\n",
              "       [-9.54339517e-04,  9.00409649e-01,  9.73733325e-02],\n",
              "       [-1.93782364e-01,  1.42188015e+00, -4.43484621e-02],\n",
              "       ...,\n",
              "       [ 3.46702998e-02,  1.43821499e+00, -7.91721148e-02],\n",
              "       [ 1.26020829e-02,  1.43801687e+00, -8.20921669e-02],\n",
              "       [ 5.70707052e-02,  1.43959635e+00, -7.53496541e-02]])"
            ]
          },
          "metadata": {},
          "execution_count": 14
        }
      ]
    },
    {
      "cell_type": "code",
      "source": [
        " "
      ],
      "metadata": {
        "id": "AcBZcNGhgYli"
      },
      "execution_count": null,
      "outputs": []
    },
    {
      "cell_type": "code",
      "source": [
        "start_time = time.time()\n",
        "mesh1 = remove_interpenetration_fast(mesh, body)\n",
        "end_time = time.time()\n",
        "print(end_time - start_time)"
      ],
      "metadata": {
        "colab": {
          "base_uri": "https://localhost:8080/"
        },
        "id": "2VibQWp8tALa",
        "outputId": "9b5bd8c9-23f0-4a6f-858a-d45cf06bcd91"
      },
      "execution_count": null,
      "outputs": [
        {
          "output_type": "stream",
          "name": "stderr",
          "text": [
            "/usr/local/lib/python3.7/dist-packages/ipykernel_launcher.py:24: DeprecationWarning: `np.long` is a deprecated alias for `np.compat.long`. To silence this warning, use `np.compat.long` by itself. In the likely event your code does not need to work on Python 2 you can use the builtin `int` for which `np.compat.long` is itself an alias. Doing this will not modify any behaviour and is safe. When replacing `np.long`, you may wish to use e.g. `np.int64` or `np.int32` to specify the precision. If you wish to review your current use, check the release note link for additional information.\n",
            "Deprecated in NumPy 1.20; for more details and guidance: https://numpy.org/devdocs/release/1.20.0-notes.html#deprecations\n",
            "/usr/local/lib/python3.7/dist-packages/ipykernel_launcher.py:25: DeprecationWarning: `np.long` is a deprecated alias for `np.compat.long`. To silence this warning, use `np.compat.long` by itself. In the likely event your code does not need to work on Python 2 you can use the builtin `int` for which `np.compat.long` is itself an alias. Doing this will not modify any behaviour and is safe. When replacing `np.long`, you may wish to use e.g. `np.int64` or `np.int32` to specify the precision. If you wish to review your current use, check the release note link for additional information.\n",
            "Deprecated in NumPy 1.20; for more details and guidance: https://numpy.org/devdocs/release/1.20.0-notes.html#deprecations\n",
            "/usr/local/lib/python3.7/dist-packages/ipykernel_launcher.py:31: DeprecationWarning: `np.int` is a deprecated alias for the builtin `int`. To silence this warning, use `int` by itself. Doing this will not modify any behavior and is safe. When replacing `np.int`, you may wish to use e.g. `np.int64` or `np.int32` to specify the precision. If you wish to review your current use, check the release note link for additional information.\n",
            "Deprecated in NumPy 1.20; for more details and guidance: https://numpy.org/devdocs/release/1.20.0-notes.html#deprecations\n",
            "/usr/local/lib/python3.7/dist-packages/ipykernel_launcher.py:32: DeprecationWarning: `np.int` is a deprecated alias for the builtin `int`. To silence this warning, use `int` by itself. Doing this will not modify any behavior and is safe. When replacing `np.int`, you may wish to use e.g. `np.int64` or `np.int32` to specify the precision. If you wish to review your current use, check the release note link for additional information.\n",
            "Deprecated in NumPy 1.20; for more details and guidance: https://numpy.org/devdocs/release/1.20.0-notes.html#deprecations\n",
            "/usr/local/lib/python3.7/dist-packages/ipykernel_launcher.py:33: DeprecationWarning: `np.int` is a deprecated alias for the builtin `int`. To silence this warning, use `int` by itself. Doing this will not modify any behavior and is safe. When replacing `np.int`, you may wish to use e.g. `np.int64` or `np.int32` to specify the precision. If you wish to review your current use, check the release note link for additional information.\n",
            "Deprecated in NumPy 1.20; for more details and guidance: https://numpy.org/devdocs/release/1.20.0-notes.html#deprecations\n"
          ]
        },
        {
          "output_type": "stream",
          "name": "stdout",
          "text": [
            "0.3804140090942383\n"
          ]
        }
      ]
    },
    {
      "cell_type": "code",
      "source": [
        "start_time = time.time()\n",
        "nearest_points, nearest_normals = get_nearest_points_and_normals(mesh.v, body.v, body.f)\n",
        "end_time = time.time()\n",
        "print(end_time - start_time)"
      ],
      "metadata": {
        "colab": {
          "base_uri": "https://localhost:8080/"
        },
        "id": "8lknnSx9KdGI",
        "outputId": "6f555f51-6e29-43ce-9435-c34f986cc85f"
      },
      "execution_count": null,
      "outputs": [
        {
          "output_type": "stream",
          "name": "stdout",
          "text": [
            "0.035628318786621094\n",
            "0.07294130325317383\n"
          ]
        },
        {
          "output_type": "stream",
          "name": "stderr",
          "text": [
            "/usr/local/lib/python3.7/dist-packages/ipykernel_launcher.py:28: DeprecationWarning: `np.long` is a deprecated alias for `np.compat.long`. To silence this warning, use `np.compat.long` by itself. In the likely event your code does not need to work on Python 2 you can use the builtin `int` for which `np.compat.long` is itself an alias. Doing this will not modify any behaviour and is safe. When replacing `np.long`, you may wish to use e.g. `np.int64` or `np.int32` to specify the precision. If you wish to review your current use, check the release note link for additional information.\n",
            "Deprecated in NumPy 1.20; for more details and guidance: https://numpy.org/devdocs/release/1.20.0-notes.html#deprecations\n",
            "/usr/local/lib/python3.7/dist-packages/ipykernel_launcher.py:29: DeprecationWarning: `np.long` is a deprecated alias for `np.compat.long`. To silence this warning, use `np.compat.long` by itself. In the likely event your code does not need to work on Python 2 you can use the builtin `int` for which `np.compat.long` is itself an alias. Doing this will not modify any behaviour and is safe. When replacing `np.long`, you may wish to use e.g. `np.int64` or `np.int32` to specify the precision. If you wish to review your current use, check the release note link for additional information.\n",
            "Deprecated in NumPy 1.20; for more details and guidance: https://numpy.org/devdocs/release/1.20.0-notes.html#deprecations\n",
            "/usr/local/lib/python3.7/dist-packages/ipykernel_launcher.py:35: DeprecationWarning: `np.int` is a deprecated alias for the builtin `int`. To silence this warning, use `int` by itself. Doing this will not modify any behavior and is safe. When replacing `np.int`, you may wish to use e.g. `np.int64` or `np.int32` to specify the precision. If you wish to review your current use, check the release note link for additional information.\n",
            "Deprecated in NumPy 1.20; for more details and guidance: https://numpy.org/devdocs/release/1.20.0-notes.html#deprecations\n",
            "/usr/local/lib/python3.7/dist-packages/ipykernel_launcher.py:36: DeprecationWarning: `np.int` is a deprecated alias for the builtin `int`. To silence this warning, use `int` by itself. Doing this will not modify any behavior and is safe. When replacing `np.int`, you may wish to use e.g. `np.int64` or `np.int32` to specify the precision. If you wish to review your current use, check the release note link for additional information.\n",
            "Deprecated in NumPy 1.20; for more details and guidance: https://numpy.org/devdocs/release/1.20.0-notes.html#deprecations\n",
            "/usr/local/lib/python3.7/dist-packages/ipykernel_launcher.py:37: DeprecationWarning: `np.int` is a deprecated alias for the builtin `int`. To silence this warning, use `int` by itself. Doing this will not modify any behavior and is safe. When replacing `np.int`, you may wish to use e.g. `np.int64` or `np.int32` to specify the precision. If you wish to review your current use, check the release note link for additional information.\n",
            "Deprecated in NumPy 1.20; for more details and guidance: https://numpy.org/devdocs/release/1.20.0-notes.html#deprecations\n"
          ]
        }
      ]
    },
    {
      "cell_type": "code",
      "source": [
        "1/0.035\n"
      ],
      "metadata": {
        "colab": {
          "base_uri": "https://localhost:8080/"
        },
        "id": "nYj8XYuoMds3",
        "outputId": "47c712f1-8664-4e22-c5c7-d39b72751ad9"
      },
      "execution_count": null,
      "outputs": [
        {
          "output_type": "execute_result",
          "data": {
            "text/plain": [
              "28.57142857142857"
            ]
          },
          "metadata": {},
          "execution_count": 45
        }
      ]
    },
    {
      "cell_type": "code",
      "source": [
        "%timeit nearest_points, nearest_normals = get_nearest_points_and_normals(mesh.v, body.v, body.f)"
      ],
      "metadata": {
        "id": "xtDrdKHnMvP7",
        "colab": {
          "base_uri": "https://localhost:8080/"
        },
        "outputId": "94323ad7-9724-4085-91f5-ce8503873cbe"
      },
      "execution_count": null,
      "outputs": [
        {
          "output_type": "stream",
          "name": "stderr",
          "text": [
            "/usr/local/lib/python3.7/dist-packages/ipykernel_launcher.py:24: DeprecationWarning: `np.long` is a deprecated alias for `np.compat.long`. To silence this warning, use `np.compat.long` by itself. In the likely event your code does not need to work on Python 2 you can use the builtin `int` for which `np.compat.long` is itself an alias. Doing this will not modify any behaviour and is safe. When replacing `np.long`, you may wish to use e.g. `np.int64` or `np.int32` to specify the precision. If you wish to review your current use, check the release note link for additional information.\n",
            "Deprecated in NumPy 1.20; for more details and guidance: https://numpy.org/devdocs/release/1.20.0-notes.html#deprecations\n",
            "/usr/local/lib/python3.7/dist-packages/ipykernel_launcher.py:25: DeprecationWarning: `np.long` is a deprecated alias for `np.compat.long`. To silence this warning, use `np.compat.long` by itself. In the likely event your code does not need to work on Python 2 you can use the builtin `int` for which `np.compat.long` is itself an alias. Doing this will not modify any behaviour and is safe. When replacing `np.long`, you may wish to use e.g. `np.int64` or `np.int32` to specify the precision. If you wish to review your current use, check the release note link for additional information.\n",
            "Deprecated in NumPy 1.20; for more details and guidance: https://numpy.org/devdocs/release/1.20.0-notes.html#deprecations\n",
            "/usr/local/lib/python3.7/dist-packages/ipykernel_launcher.py:31: DeprecationWarning: `np.int` is a deprecated alias for the builtin `int`. To silence this warning, use `int` by itself. Doing this will not modify any behavior and is safe. When replacing `np.int`, you may wish to use e.g. `np.int64` or `np.int32` to specify the precision. If you wish to review your current use, check the release note link for additional information.\n",
            "Deprecated in NumPy 1.20; for more details and guidance: https://numpy.org/devdocs/release/1.20.0-notes.html#deprecations\n",
            "/usr/local/lib/python3.7/dist-packages/ipykernel_launcher.py:32: DeprecationWarning: `np.int` is a deprecated alias for the builtin `int`. To silence this warning, use `int` by itself. Doing this will not modify any behavior and is safe. When replacing `np.int`, you may wish to use e.g. `np.int64` or `np.int32` to specify the precision. If you wish to review your current use, check the release note link for additional information.\n",
            "Deprecated in NumPy 1.20; for more details and guidance: https://numpy.org/devdocs/release/1.20.0-notes.html#deprecations\n",
            "/usr/local/lib/python3.7/dist-packages/ipykernel_launcher.py:33: DeprecationWarning: `np.int` is a deprecated alias for the builtin `int`. To silence this warning, use `int` by itself. Doing this will not modify any behavior and is safe. When replacing `np.int`, you may wish to use e.g. `np.int64` or `np.int32` to specify the precision. If you wish to review your current use, check the release note link for additional information.\n",
            "Deprecated in NumPy 1.20; for more details and guidance: https://numpy.org/devdocs/release/1.20.0-notes.html#deprecations\n"
          ]
        },
        {
          "output_type": "stream",
          "name": "stdout",
          "text": [
            "10 loops, best of 5: 59.9 ms per loop\n"
          ]
        }
      ]
    },
    {
      "cell_type": "code",
      "source": [
        "nearest_points, nearest_normals = get_nearest_points_and_normals(mesh.v, body.v, body.f)\n",
        "print(mesh.v.shape)\n",
        "nearest_points.shape"
      ],
      "metadata": {
        "colab": {
          "base_uri": "https://localhost:8080/"
        },
        "id": "rxkpkp79uER0",
        "outputId": "3db42633-716a-48bc-9c7c-16a7e7b332d4"
      },
      "execution_count": null,
      "outputs": [
        {
          "output_type": "stream",
          "name": "stdout",
          "text": [
            "(6716, 3)\n"
          ]
        },
        {
          "output_type": "stream",
          "name": "stderr",
          "text": [
            "/usr/local/lib/python3.7/dist-packages/ipykernel_launcher.py:24: DeprecationWarning: `np.long` is a deprecated alias for `np.compat.long`. To silence this warning, use `np.compat.long` by itself. In the likely event your code does not need to work on Python 2 you can use the builtin `int` for which `np.compat.long` is itself an alias. Doing this will not modify any behaviour and is safe. When replacing `np.long`, you may wish to use e.g. `np.int64` or `np.int32` to specify the precision. If you wish to review your current use, check the release note link for additional information.\n",
            "Deprecated in NumPy 1.20; for more details and guidance: https://numpy.org/devdocs/release/1.20.0-notes.html#deprecations\n",
            "/usr/local/lib/python3.7/dist-packages/ipykernel_launcher.py:25: DeprecationWarning: `np.long` is a deprecated alias for `np.compat.long`. To silence this warning, use `np.compat.long` by itself. In the likely event your code does not need to work on Python 2 you can use the builtin `int` for which `np.compat.long` is itself an alias. Doing this will not modify any behaviour and is safe. When replacing `np.long`, you may wish to use e.g. `np.int64` or `np.int32` to specify the precision. If you wish to review your current use, check the release note link for additional information.\n",
            "Deprecated in NumPy 1.20; for more details and guidance: https://numpy.org/devdocs/release/1.20.0-notes.html#deprecations\n",
            "/usr/local/lib/python3.7/dist-packages/ipykernel_launcher.py:31: DeprecationWarning: `np.int` is a deprecated alias for the builtin `int`. To silence this warning, use `int` by itself. Doing this will not modify any behavior and is safe. When replacing `np.int`, you may wish to use e.g. `np.int64` or `np.int32` to specify the precision. If you wish to review your current use, check the release note link for additional information.\n",
            "Deprecated in NumPy 1.20; for more details and guidance: https://numpy.org/devdocs/release/1.20.0-notes.html#deprecations\n",
            "/usr/local/lib/python3.7/dist-packages/ipykernel_launcher.py:32: DeprecationWarning: `np.int` is a deprecated alias for the builtin `int`. To silence this warning, use `int` by itself. Doing this will not modify any behavior and is safe. When replacing `np.int`, you may wish to use e.g. `np.int64` or `np.int32` to specify the precision. If you wish to review your current use, check the release note link for additional information.\n",
            "Deprecated in NumPy 1.20; for more details and guidance: https://numpy.org/devdocs/release/1.20.0-notes.html#deprecations\n",
            "/usr/local/lib/python3.7/dist-packages/ipykernel_launcher.py:33: DeprecationWarning: `np.int` is a deprecated alias for the builtin `int`. To silence this warning, use `int` by itself. Doing this will not modify any behavior and is safe. When replacing `np.int`, you may wish to use e.g. `np.int64` or `np.int32` to specify the precision. If you wish to review your current use, check the release note link for additional information.\n",
            "Deprecated in NumPy 1.20; for more details and guidance: https://numpy.org/devdocs/release/1.20.0-notes.html#deprecations\n"
          ]
        },
        {
          "output_type": "execute_result",
          "data": {
            "text/plain": [
              "(6716, 3)"
            ]
          },
          "metadata": {},
          "execution_count": 25
        }
      ]
    },
    {
      "cell_type": "code",
      "source": [
        "\n",
        "import sys\n",
        "#sys.path.append('../MGN_release')\n",
        "import numpy as np\n",
        "\n",
        "from psbody.mesh import Mesh\n",
        "from psbody.mesh.geometry.vert_normals import VertNormals\n",
        "from psbody.mesh.geometry.tri_normals import TriNormals\n",
        "from psbody.mesh.search import AabbTree\n",
        "\n",
        "\n",
        "def laplacian(part_mesh):\n",
        "    \"\"\" Compute laplacian operator on part_mesh. This can be cached.\n",
        "    \"\"\"\n",
        "    import scipy.sparse as sp\n",
        "    from sklearn.preprocessing import normalize\n",
        "    from psbody.mesh.topology.connectivity import get_vert_connectivity\n",
        "\n",
        "    connectivity = get_vert_connectivity(part_mesh)\n",
        "    # connectivity is a sparse matrix, and np.clip can not applied directly on\n",
        "    # a sparse matrix.\n",
        "    connectivity.data = np.clip(connectivity.data, 0, 1)\n",
        "    lap = normalize(connectivity, norm='l1', axis=1)\n",
        "    lap = sp.eye(connectivity.shape[0]) - lap\n",
        "\n",
        "    return lap\n",
        "\n",
        "\n",
        "# inspired from frankengeist.body.ch.mesh_distance.MeshDistanceSquared\n",
        "def get_nearest_points_and_normals(vert, base_verts, base_faces):\n",
        "\n",
        "    fn = TriNormals(v=base_verts, f=base_faces).reshape((-1, 3))\n",
        "    vn = VertNormals(v=base_verts, f=base_faces).reshape((-1, 3))\n",
        "\n",
        "    tree = AabbTree(Mesh(v=base_verts, f=base_faces))\n",
        "    nearest_tri, nearest_part, nearest_point = tree.nearest(vert, nearest_part=True)\n",
        "    nearest_tri = nearest_tri.ravel().astype(np.long)\n",
        "    nearest_part = nearest_part.ravel().astype(np.long)\n",
        "\n",
        "    nearest_normals = np.zeros_like(vert)\n",
        "\n",
        "    #nearest_part tells you whether the closest point in triangle abc is in the interior (0), on an edge (ab:1,bc:2,ca:3), or a vertex (a:4,b:5,c:6)\n",
        "    cl_tri_idxs = np.nonzero(nearest_part == 0)[0].astype(np.int)\n",
        "    cl_vrt_idxs = np.nonzero(nearest_part > 3)[0].astype(np.int)\n",
        "    cl_edg_idxs = np.nonzero((nearest_part <= 3) & (nearest_part > 0))[0].astype(np.int)\n",
        "\n",
        "    nt = nearest_tri[cl_tri_idxs]\n",
        "    nearest_normals[cl_tri_idxs] = fn[nt]\n",
        "\n",
        "    nt = nearest_tri[cl_vrt_idxs]\n",
        "    npp = nearest_part[cl_vrt_idxs] - 4\n",
        "    nearest_normals[cl_vrt_idxs] = vn[base_faces[nt, npp]]\n",
        "\n",
        "    nt = nearest_tri[cl_edg_idxs]\n",
        "    npp = nearest_part[cl_edg_idxs] - 1\n",
        "    nearest_normals[cl_edg_idxs] += vn[base_faces[nt, npp]]\n",
        "    npp = np.mod(nearest_part[cl_edg_idxs], 3)\n",
        "    nearest_normals[cl_edg_idxs] += vn[base_faces[nt, npp]]\n",
        "\n",
        "    nearest_normals = nearest_normals / (np.linalg.norm(nearest_normals, axis=-1, keepdims=True) + 1.e-10)\n",
        "\n",
        "    return nearest_point, nearest_normals\n",
        "\n",
        "\n",
        "def remove_interpenetration_fast(mesh, base, L=None):\n",
        "    \"\"\"\n",
        "    Laplacian can be cached.\n",
        "    Computing laplacian takes 60% of the total runtime.\n",
        "    \"\"\"\n",
        "    import scipy.sparse as sp\n",
        "    from scipy.sparse import vstack, csr_matrix\n",
        "    from scipy.sparse.linalg import spsolve\n",
        "    from psbody.mesh import Mesh\n",
        "\n",
        "    eps = 0.01\n",
        "    ww = 2.0\n",
        "    nverts = mesh.v.shape[0]\n",
        "\n",
        "    if L is None:\n",
        "        L = laplacian(mesh)\n",
        "\n",
        "    nearest_points, nearest_normals = get_nearest_points_and_normals(mesh.v, base.v, base.f)\n",
        "    direction = np.sign( np.sum((mesh.v - nearest_points) * nearest_normals, axis=-1) )\n",
        "\n",
        "    indices = np.where(direction < 0)[0]\n",
        "\n",
        "    pentgt_points = nearest_points[indices] - mesh.v[indices]\n",
        "    pentgt_points = nearest_points[indices] \\\n",
        "                    + eps * pentgt_points / np.expand_dims(0.0001 + np.linalg.norm(pentgt_points, axis=1), 1)\n",
        "    tgt_points = mesh.v.copy()\n",
        "    tgt_points[indices] = ww * pentgt_points\n",
        "\n",
        "    rc = np.arange(nverts)\n",
        "    data = np.ones(nverts)\n",
        "    data[indices] *= ww\n",
        "    I = csr_matrix((data, (rc, rc)), shape=(nverts, nverts))\n",
        "\n",
        "    A = vstack([L, I])\n",
        "    b = np.vstack((\n",
        "        L.dot(mesh.v),\n",
        "        tgt_points\n",
        "    ))\n",
        "\n",
        "    res = spsolve(A.T.dot(A), A.T.dot(b))\n",
        "    mres = Mesh(v=res, f=mesh.f)\n",
        "    return mres\n",
        "\n"
      ],
      "metadata": {
        "id": "SnyK9M_98saR"
      },
      "execution_count": null,
      "outputs": []
    },
    {
      "cell_type": "code",
      "source": [
        "import time\n",
        "#start_time = time.time()\n",
        "body = Mesh(filename='/content/drive/MyDrive/body_0000.ply')\n",
        "mesh = Mesh(filename='/content/drive/MyDrive/pred_gar_0000.ply')\n",
        "start_time = time.time()\n",
        "mesh1 = remove_interpenetration_fast(mesh, body)\n",
        "#mesh1.write_ply('/gar.ply')\n",
        "end_time = time.time()\n",
        "print(end_time - start_time)\n",
        "\n"
      ],
      "metadata": {
        "colab": {
          "base_uri": "https://localhost:8080/"
        },
        "id": "5qrxT2jZAGqe",
        "outputId": "bc1751b2-851f-4ffc-ed3e-694e240d903c"
      },
      "execution_count": null,
      "outputs": [
        {
          "output_type": "stream",
          "name": "stderr",
          "text": [
            "/usr/local/lib/python3.7/dist-packages/ipykernel_launcher.py:36: DeprecationWarning: `np.long` is a deprecated alias for `np.compat.long`. To silence this warning, use `np.compat.long` by itself. In the likely event your code does not need to work on Python 2 you can use the builtin `int` for which `np.compat.long` is itself an alias. Doing this will not modify any behaviour and is safe. When replacing `np.long`, you may wish to use e.g. `np.int64` or `np.int32` to specify the precision. If you wish to review your current use, check the release note link for additional information.\n",
            "Deprecated in NumPy 1.20; for more details and guidance: https://numpy.org/devdocs/release/1.20.0-notes.html#deprecations\n",
            "/usr/local/lib/python3.7/dist-packages/ipykernel_launcher.py:37: DeprecationWarning: `np.long` is a deprecated alias for `np.compat.long`. To silence this warning, use `np.compat.long` by itself. In the likely event your code does not need to work on Python 2 you can use the builtin `int` for which `np.compat.long` is itself an alias. Doing this will not modify any behaviour and is safe. When replacing `np.long`, you may wish to use e.g. `np.int64` or `np.int32` to specify the precision. If you wish to review your current use, check the release note link for additional information.\n",
            "Deprecated in NumPy 1.20; for more details and guidance: https://numpy.org/devdocs/release/1.20.0-notes.html#deprecations\n",
            "/usr/local/lib/python3.7/dist-packages/ipykernel_launcher.py:42: DeprecationWarning: `np.int` is a deprecated alias for the builtin `int`. To silence this warning, use `int` by itself. Doing this will not modify any behavior and is safe. When replacing `np.int`, you may wish to use e.g. `np.int64` or `np.int32` to specify the precision. If you wish to review your current use, check the release note link for additional information.\n",
            "Deprecated in NumPy 1.20; for more details and guidance: https://numpy.org/devdocs/release/1.20.0-notes.html#deprecations\n",
            "/usr/local/lib/python3.7/dist-packages/ipykernel_launcher.py:43: DeprecationWarning: `np.int` is a deprecated alias for the builtin `int`. To silence this warning, use `int` by itself. Doing this will not modify any behavior and is safe. When replacing `np.int`, you may wish to use e.g. `np.int64` or `np.int32` to specify the precision. If you wish to review your current use, check the release note link for additional information.\n",
            "Deprecated in NumPy 1.20; for more details and guidance: https://numpy.org/devdocs/release/1.20.0-notes.html#deprecations\n",
            "/usr/local/lib/python3.7/dist-packages/ipykernel_launcher.py:44: DeprecationWarning: `np.int` is a deprecated alias for the builtin `int`. To silence this warning, use `int` by itself. Doing this will not modify any behavior and is safe. When replacing `np.int`, you may wish to use e.g. `np.int64` or `np.int32` to specify the precision. If you wish to review your current use, check the release note link for additional information.\n",
            "Deprecated in NumPy 1.20; for more details and guidance: https://numpy.org/devdocs/release/1.20.0-notes.html#deprecations\n"
          ]
        },
        {
          "output_type": "stream",
          "name": "stdout",
          "text": [
            "0.964881181716919\n"
          ]
        }
      ]
    },
    {
      "cell_type": "code",
      "source": [
        "eps = 0.001\n",
        "ww = 2.0\n",
        "nearest_points, nearest_normals = get_nearest_points_and_normals(mesh.v, body.v, body.f)\n",
        "direction = np.sign( np.sum((mesh.v - nearest_points) * nearest_normals, axis=-1) )\n",
        "\n",
        "indices = np.where(direction < 0)[0]\n",
        "\n",
        "pentgt_points = nearest_points[indices] - mesh.v[indices]\n",
        "pentgt_points = nearest_points[indices] \\\n",
        "                    + eps * pentgt_points / np.expand_dims(0.0001 + np.linalg.norm(pentgt_points, axis=1), 1)\n",
        "tgt_points = mesh.v.copy()\n",
        "tgt_points[indices] = ww * pentgt_points\n"
      ],
      "metadata": {
        "id": "3ShLV_BKEWLl",
        "colab": {
          "base_uri": "https://localhost:8080/"
        },
        "outputId": "65d8addb-dec5-4794-a4da-eebd3baffdc4"
      },
      "execution_count": null,
      "outputs": [
        {
          "output_type": "stream",
          "name": "stderr",
          "text": [
            "/usr/local/lib/python3.7/dist-packages/ipykernel_launcher.py:24: DeprecationWarning: `np.long` is a deprecated alias for `np.compat.long`. To silence this warning, use `np.compat.long` by itself. In the likely event your code does not need to work on Python 2 you can use the builtin `int` for which `np.compat.long` is itself an alias. Doing this will not modify any behaviour and is safe. When replacing `np.long`, you may wish to use e.g. `np.int64` or `np.int32` to specify the precision. If you wish to review your current use, check the release note link for additional information.\n",
            "Deprecated in NumPy 1.20; for more details and guidance: https://numpy.org/devdocs/release/1.20.0-notes.html#deprecations\n",
            "/usr/local/lib/python3.7/dist-packages/ipykernel_launcher.py:25: DeprecationWarning: `np.long` is a deprecated alias for `np.compat.long`. To silence this warning, use `np.compat.long` by itself. In the likely event your code does not need to work on Python 2 you can use the builtin `int` for which `np.compat.long` is itself an alias. Doing this will not modify any behaviour and is safe. When replacing `np.long`, you may wish to use e.g. `np.int64` or `np.int32` to specify the precision. If you wish to review your current use, check the release note link for additional information.\n",
            "Deprecated in NumPy 1.20; for more details and guidance: https://numpy.org/devdocs/release/1.20.0-notes.html#deprecations\n",
            "/usr/local/lib/python3.7/dist-packages/ipykernel_launcher.py:31: DeprecationWarning: `np.int` is a deprecated alias for the builtin `int`. To silence this warning, use `int` by itself. Doing this will not modify any behavior and is safe. When replacing `np.int`, you may wish to use e.g. `np.int64` or `np.int32` to specify the precision. If you wish to review your current use, check the release note link for additional information.\n",
            "Deprecated in NumPy 1.20; for more details and guidance: https://numpy.org/devdocs/release/1.20.0-notes.html#deprecations\n",
            "/usr/local/lib/python3.7/dist-packages/ipykernel_launcher.py:32: DeprecationWarning: `np.int` is a deprecated alias for the builtin `int`. To silence this warning, use `int` by itself. Doing this will not modify any behavior and is safe. When replacing `np.int`, you may wish to use e.g. `np.int64` or `np.int32` to specify the precision. If you wish to review your current use, check the release note link for additional information.\n",
            "Deprecated in NumPy 1.20; for more details and guidance: https://numpy.org/devdocs/release/1.20.0-notes.html#deprecations\n",
            "/usr/local/lib/python3.7/dist-packages/ipykernel_launcher.py:33: DeprecationWarning: `np.int` is a deprecated alias for the builtin `int`. To silence this warning, use `int` by itself. Doing this will not modify any behavior and is safe. When replacing `np.int`, you may wish to use e.g. `np.int64` or `np.int32` to specify the precision. If you wish to review your current use, check the release note link for additional information.\n",
            "Deprecated in NumPy 1.20; for more details and guidance: https://numpy.org/devdocs/release/1.20.0-notes.html#deprecations\n"
          ]
        }
      ]
    },
    {
      "cell_type": "code",
      "source": [
        "indices.shape"
      ],
      "metadata": {
        "colab": {
          "base_uri": "https://localhost:8080/"
        },
        "id": "S9jrMbof1NMD",
        "outputId": "ef17e964-4efe-41e7-b9f1-62ab70a4b1e6"
      },
      "execution_count": null,
      "outputs": [
        {
          "output_type": "execute_result",
          "data": {
            "text/plain": [
              "(40,)"
            ]
          },
          "metadata": {},
          "execution_count": 27
        }
      ]
    },
    {
      "cell_type": "code",
      "source": [
        "indices"
      ],
      "metadata": {
        "colab": {
          "base_uri": "https://localhost:8080/"
        },
        "id": "DIY_QLoq1bLW",
        "outputId": "473037a1-abdb-48cd-9806-4f53a4dee330"
      },
      "execution_count": null,
      "outputs": [
        {
          "output_type": "execute_result",
          "data": {
            "text/plain": [
              "array([  59,   77,  144,  145,  147,  148, 1362, 1365, 1922, 2656, 2657,\n",
              "       2665, 2666, 2674, 2675, 2750, 2756, 2757, 2761, 2762, 2767, 3467,\n",
              "       3468, 3472, 3531, 3532, 3533, 3534, 3540, 4720, 4753, 5992, 6075,\n",
              "       6079, 6080, 6081, 6083, 6084, 6086, 6090])"
            ]
          },
          "metadata": {},
          "execution_count": 28
        }
      ]
    },
    {
      "cell_type": "code",
      "source": [],
      "metadata": {
        "id": "vcsWRpNy1eYx"
      },
      "execution_count": null,
      "outputs": []
    },
    {
      "cell_type": "markdown",
      "source": [
        "## Naive nearest point"
      ],
      "metadata": {
        "id": "rH2Smh8ttHXs"
      }
    },
    {
      "cell_type": "code",
      "source": [
        "import time\n",
        "#start_time = time.time()\n",
        "body = Mesh(filename='/content/drive/MyDrive/1.obj')\n",
        "mesh = Mesh(filename='/content/drive/MyDrive/1.obj')\n",
        "nearest_indices = np.load('/content/nearest_indices.npy')\n",
        "#for i in range()\n",
        "base_verts = body.v\n",
        "base_faces = body.f\n",
        "nearest_points_naive = np.asarray(mesh.v)\n",
        "nearest_normals_naive = np.asarray(mesh.v)\n",
        "vn = VertNormals(v=body.v, f=body.f).reshape((-1, 3))\n",
        "for i in range(6716):\n",
        "      nearest_points_naive[i] = (body.v[nearest_indices[i]])\n",
        "      nearest_normals_naive[i] = (vn[nearest_indices[i]])\n",
        "    \n",
        "direction = np.sign( np.sum((mesh.v - nearest_points_naive) * nearest_normals_naive, axis=-1) )\n"
      ],
      "metadata": {
        "id": "C9_cQU2DtKya"
      },
      "execution_count": null,
      "outputs": []
    },
    {
      "cell_type": "code",
      "source": [
        "import time\n",
        "#start_time = time.time()\n",
        "body = Mesh(filename='/content/drive/MyDrive/1.obj')\n",
        "mesh = Mesh(filename='/content/drive/MyDrive/1.obj')\n",
        "nearest_indices = np.load('/content/near_indx.npy')\n",
        "#for i in range()\n",
        "base_verts = body.v\n",
        "base_faces = body.f\n",
        "nearest_points_naive = np.asarray(mesh.v)\n",
        "nearest_normals_naive = np.asarray(mesh.v)\n",
        "vn = VertNormals(v=body_verts, f=body_faces).reshape((-1, 3))\n",
        "for i in range(6716):\n",
        "      nearest_point = body.v[nearest_indices[i]]\n",
        "      nearest_normal = vn\n",
        "    \n",
        "direction = np.sign( np.sum((mesh.v - nearest_points_naive) * nearest_normals_naive, axis=-1) )\n"
      ],
      "metadata": {
        "id": "wLt9kEUw_GWn"
      },
      "execution_count": null,
      "outputs": []
    },
    {
      "cell_type": "code",
      "source": [
        "indices = np.where(direction < 0)[0]\n",
        "indices"
      ],
      "metadata": {
        "colab": {
          "base_uri": "https://localhost:8080/"
        },
        "id": "Oi5PXBcOvsHK",
        "outputId": "7d7e93c6-e212-48b8-d63d-78eb70d00e52"
      },
      "execution_count": null,
      "outputs": [
        {
          "output_type": "execute_result",
          "data": {
            "text/plain": [
              "array([], dtype=int64)"
            ]
          },
          "metadata": {},
          "execution_count": 52
        }
      ]
    },
    {
      "cell_type": "code",
      "source": [
        "print(nearest_points_naive[0])\n",
        "print(nearest_points[0])\n"
      ],
      "metadata": {
        "colab": {
          "base_uri": "https://localhost:8080/"
        },
        "id": "YeS1_i2Jwnw9",
        "outputId": "0d719f66-bf2d-42de-d174-742aeb36da8b"
      },
      "execution_count": null,
      "outputs": [
        {
          "output_type": "stream",
          "name": "stdout",
          "text": [
            "[-0.09629597 -0.15054663  0.98390182]\n",
            "[1. 1. 1.]\n"
          ]
        }
      ]
    },
    {
      "cell_type": "code",
      "source": [
        "body.v[nearest_indices[0]]"
      ],
      "metadata": {
        "colab": {
          "base_uri": "https://localhost:8080/"
        },
        "id": "WukyLoXJxmjt",
        "outputId": "e9c4af14-49cf-4fed-d75f-aaea3bac1c32"
      },
      "execution_count": null,
      "outputs": [
        {
          "output_type": "execute_result",
          "data": {
            "text/plain": [
              "array([ 0.08219133,  0.40182057, -0.02062367])"
            ]
          },
          "metadata": {},
          "execution_count": 30
        }
      ]
    },
    {
      "cell_type": "code",
      "source": [
        "from scipy.spatial import KDTree\n",
        "body = Mesh(filename='/content/drive/MyDrive/1.obj')\n",
        "distances = [0]*6716\n",
        "indices = [0]*6716\n",
        "import time\n",
        "start_time = time.time()\n",
        "\n",
        "\n",
        "kdtree = KDTree(body.v)\n",
        "print(time.time() - start_time)\n",
        "mesh_cloth = Mesh(filename='/content/drive/MyDrive/predicted_exp.obj')\n",
        "vertices = mesh_cloth.v\n",
        "# distances, indices = kdtree.query(vertices)\n",
        "# print(time.time() - start_time)\n",
        "for i in range(6716):\n",
        "  distances[i], indices[i] = kdtree.query(vertices[i])\n",
        "print(time.time() - start_time)"
      ],
      "metadata": {
        "colab": {
          "base_uri": "https://localhost:8080/"
        },
        "id": "JaQjGZmLxvq3",
        "outputId": "1a39481a-2bda-4435-c979-f9b3ea393e5b"
      },
      "execution_count": null,
      "outputs": [
        {
          "output_type": "stream",
          "name": "stdout",
          "text": [
            "0.003774404525756836\n",
            "0.19837570190429688\n"
          ]
        }
      ]
    },
    {
      "cell_type": "code",
      "source": [
        "np.save('/content/near_indx.npy', indices)"
      ],
      "metadata": {
        "id": "CAV9mdWi324A"
      },
      "execution_count": null,
      "outputs": []
    },
    {
      "cell_type": "code",
      "source": [
        "near_idx = np.load('/content/near_indx.npy')"
      ],
      "metadata": {
        "id": "yftZYmZe39xE"
      },
      "execution_count": null,
      "outputs": []
    },
    {
      "cell_type": "code",
      "source": [
        "body.v[near_idx[0]]"
      ],
      "metadata": {
        "colab": {
          "base_uri": "https://localhost:8080/"
        },
        "id": "1iGVGcdf4HV9",
        "outputId": "6ef1fbc4-8c02-4afd-d852-05080a385e17"
      },
      "execution_count": null,
      "outputs": [
        {
          "output_type": "execute_result",
          "data": {
            "text/plain": [
              "array([-0.222243, -3.218895,  1.461225])"
            ]
          },
          "metadata": {},
          "execution_count": 37
        }
      ]
    },
    {
      "cell_type": "code",
      "source": [
        "near_idx[0]"
      ],
      "metadata": {
        "colab": {
          "base_uri": "https://localhost:8080/"
        },
        "id": "oCpNKn3T5sXf",
        "outputId": "0c10377e-815b-48b3-c4ec-57de19309861"
      },
      "execution_count": null,
      "outputs": [
        {
          "output_type": "execute_result",
          "data": {
            "text/plain": [
              "8233"
            ]
          },
          "metadata": {},
          "execution_count": 38
        }
      ]
    },
    {
      "cell_type": "code",
      "source": [
        "body = Mesh(filename='/content/drive/MyDrive/1.obj')\n",
        "mesh = Mesh(filename='/content/drive/MyDrive/predicted_exp.obj')\n",
        "nearest_points, nearest_normals = get_nearest_points_and_normals(mesh.v, body.v, body.f)"
      ],
      "metadata": {
        "colab": {
          "base_uri": "https://localhost:8080/"
        },
        "id": "Vglgw4D65wEA",
        "outputId": "9721e0d1-80a0-4357-e83d-f8e6d872a59d"
      },
      "execution_count": null,
      "outputs": [
        {
          "output_type": "stream",
          "name": "stdout",
          "text": [
            "[   0    1    3 ... 6713 6714 6715]\n",
            "(5571,)\n",
            "[ 335  376  441  791  823  838 1045 1892 2869 2950 3155 3157 3159 3206\n",
            " 3772 4049 4267 4419 4424 4437 4574 4580 4583 4834 4922 5560 6317 6448\n",
            " 6461 6469 6514 6515 6537 6538 6641 6658]\n",
            "(36,)\n",
            "[   2   20   32 ... 6709 6710 6711]\n",
            "(1109,)\n",
            "[ 8726  8722  8729 ... 13664 18163 13793]\n"
          ]
        },
        {
          "output_type": "stream",
          "name": "stderr",
          "text": [
            "/usr/local/lib/python3.7/dist-packages/ipykernel_launcher.py:32: DeprecationWarning: `np.long` is a deprecated alias for `np.compat.long`. To silence this warning, use `np.compat.long` by itself. In the likely event your code does not need to work on Python 2 you can use the builtin `int` for which `np.compat.long` is itself an alias. Doing this will not modify any behaviour and is safe. When replacing `np.long`, you may wish to use e.g. `np.int64` or `np.int32` to specify the precision. If you wish to review your current use, check the release note link for additional information.\n",
            "Deprecated in NumPy 1.20; for more details and guidance: https://numpy.org/devdocs/release/1.20.0-notes.html#deprecations\n",
            "/usr/local/lib/python3.7/dist-packages/ipykernel_launcher.py:33: DeprecationWarning: `np.long` is a deprecated alias for `np.compat.long`. To silence this warning, use `np.compat.long` by itself. In the likely event your code does not need to work on Python 2 you can use the builtin `int` for which `np.compat.long` is itself an alias. Doing this will not modify any behaviour and is safe. When replacing `np.long`, you may wish to use e.g. `np.int64` or `np.int32` to specify the precision. If you wish to review your current use, check the release note link for additional information.\n",
            "Deprecated in NumPy 1.20; for more details and guidance: https://numpy.org/devdocs/release/1.20.0-notes.html#deprecations\n",
            "/usr/local/lib/python3.7/dist-packages/ipykernel_launcher.py:39: DeprecationWarning: `np.int` is a deprecated alias for the builtin `int`. To silence this warning, use `int` by itself. Doing this will not modify any behavior and is safe. When replacing `np.int`, you may wish to use e.g. `np.int64` or `np.int32` to specify the precision. If you wish to review your current use, check the release note link for additional information.\n",
            "Deprecated in NumPy 1.20; for more details and guidance: https://numpy.org/devdocs/release/1.20.0-notes.html#deprecations\n",
            "/usr/local/lib/python3.7/dist-packages/ipykernel_launcher.py:42: DeprecationWarning: `np.int` is a deprecated alias for the builtin `int`. To silence this warning, use `int` by itself. Doing this will not modify any behavior and is safe. When replacing `np.int`, you may wish to use e.g. `np.int64` or `np.int32` to specify the precision. If you wish to review your current use, check the release note link for additional information.\n",
            "Deprecated in NumPy 1.20; for more details and guidance: https://numpy.org/devdocs/release/1.20.0-notes.html#deprecations\n",
            "/usr/local/lib/python3.7/dist-packages/ipykernel_launcher.py:45: DeprecationWarning: `np.int` is a deprecated alias for the builtin `int`. To silence this warning, use `int` by itself. Doing this will not modify any behavior and is safe. When replacing `np.int`, you may wish to use e.g. `np.int64` or `np.int32` to specify the precision. If you wish to review your current use, check the release note link for additional information.\n",
            "Deprecated in NumPy 1.20; for more details and guidance: https://numpy.org/devdocs/release/1.20.0-notes.html#deprecations\n"
          ]
        }
      ]
    },
    {
      "cell_type": "code",
      "source": [
        "body = Mesh(filename='/content/drive/MyDrive/1.obj')\n",
        "mesh = Mesh(filename='/content/drive/MyDrive/predicted_exp.obj')\n",
        "nearest_points, nearest_normals = get_nearest_points_and_normals(mesh.v, body.v, body.f)"
      ],
      "metadata": {
        "colab": {
          "base_uri": "https://localhost:8080/"
        },
        "id": "lgQW5GZi7XnQ",
        "outputId": "b7b98778-0599-4bde-c6c0-ad9944098983"
      },
      "execution_count": null,
      "outputs": [
        {
          "output_type": "stream",
          "name": "stdout",
          "text": [
            "[   0    1    3 ... 6713 6714 6715]\n",
            "(5571,)\n",
            "[ 335  376  441  791  823  838 1045 1892 2869 2950 3155 3157 3159 3206\n",
            " 3772 4049 4267 4419 4424 4437 4574 4580 4583 4834 4922 5560 6317 6448\n",
            " 6461 6469 6514 6515 6537 6538 6641 6658]\n",
            "(36,)\n",
            "[   2   20   32 ... 6709 6710 6711]\n",
            "(1109,)\n",
            "[ 8726  8722  8729 ... 13664 18163 13793]\n"
          ]
        },
        {
          "output_type": "stream",
          "name": "stderr",
          "text": [
            "/usr/local/lib/python3.7/dist-packages/ipykernel_launcher.py:32: DeprecationWarning: `np.long` is a deprecated alias for `np.compat.long`. To silence this warning, use `np.compat.long` by itself. In the likely event your code does not need to work on Python 2 you can use the builtin `int` for which `np.compat.long` is itself an alias. Doing this will not modify any behaviour and is safe. When replacing `np.long`, you may wish to use e.g. `np.int64` or `np.int32` to specify the precision. If you wish to review your current use, check the release note link for additional information.\n",
            "Deprecated in NumPy 1.20; for more details and guidance: https://numpy.org/devdocs/release/1.20.0-notes.html#deprecations\n",
            "/usr/local/lib/python3.7/dist-packages/ipykernel_launcher.py:33: DeprecationWarning: `np.long` is a deprecated alias for `np.compat.long`. To silence this warning, use `np.compat.long` by itself. In the likely event your code does not need to work on Python 2 you can use the builtin `int` for which `np.compat.long` is itself an alias. Doing this will not modify any behaviour and is safe. When replacing `np.long`, you may wish to use e.g. `np.int64` or `np.int32` to specify the precision. If you wish to review your current use, check the release note link for additional information.\n",
            "Deprecated in NumPy 1.20; for more details and guidance: https://numpy.org/devdocs/release/1.20.0-notes.html#deprecations\n",
            "/usr/local/lib/python3.7/dist-packages/ipykernel_launcher.py:39: DeprecationWarning: `np.int` is a deprecated alias for the builtin `int`. To silence this warning, use `int` by itself. Doing this will not modify any behavior and is safe. When replacing `np.int`, you may wish to use e.g. `np.int64` or `np.int32` to specify the precision. If you wish to review your current use, check the release note link for additional information.\n",
            "Deprecated in NumPy 1.20; for more details and guidance: https://numpy.org/devdocs/release/1.20.0-notes.html#deprecations\n",
            "/usr/local/lib/python3.7/dist-packages/ipykernel_launcher.py:42: DeprecationWarning: `np.int` is a deprecated alias for the builtin `int`. To silence this warning, use `int` by itself. Doing this will not modify any behavior and is safe. When replacing `np.int`, you may wish to use e.g. `np.int64` or `np.int32` to specify the precision. If you wish to review your current use, check the release note link for additional information.\n",
            "Deprecated in NumPy 1.20; for more details and guidance: https://numpy.org/devdocs/release/1.20.0-notes.html#deprecations\n",
            "/usr/local/lib/python3.7/dist-packages/ipykernel_launcher.py:45: DeprecationWarning: `np.int` is a deprecated alias for the builtin `int`. To silence this warning, use `int` by itself. Doing this will not modify any behavior and is safe. When replacing `np.int`, you may wish to use e.g. `np.int64` or `np.int32` to specify the precision. If you wish to review your current use, check the release note link for additional information.\n",
            "Deprecated in NumPy 1.20; for more details and guidance: https://numpy.org/devdocs/release/1.20.0-notes.html#deprecations\n"
          ]
        }
      ]
    },
    {
      "cell_type": "code",
      "source": [
        "nearest_points[0]"
      ],
      "metadata": {
        "colab": {
          "base_uri": "https://localhost:8080/"
        },
        "id": "kwF-bP4A7cNe",
        "outputId": "07d20c93-865f-42d7-f95e-0fbe150c727d"
      },
      "execution_count": null,
      "outputs": [
        {
          "output_type": "execute_result",
          "data": {
            "text/plain": [
              "array([-0.15373073, -3.28210668,  1.45027695])"
            ]
          },
          "metadata": {},
          "execution_count": 42
        }
      ]
    },
    {
      "cell_type": "code",
      "source": [
        "body.v[near_idx[0]]"
      ],
      "metadata": {
        "colab": {
          "base_uri": "https://localhost:8080/"
        },
        "id": "sPIRwTdF7qf8",
        "outputId": "9af3b582-39f1-4836-d932-2eab3053145d"
      },
      "execution_count": null,
      "outputs": [
        {
          "output_type": "execute_result",
          "data": {
            "text/plain": [
              "array([-0.222243, -3.218895,  1.461225])"
            ]
          },
          "metadata": {},
          "execution_count": 44
        }
      ]
    },
    {
      "cell_type": "code",
      "source": [
        "for i in range(6716):\n",
        "    if (body.v[i][0] == nearest_points[0][0]) and (body.v[i][1] == nearest_points[0][1]) and (body.v[i][2] == nearest_points[0][2]):\n",
        "      print(i) "
      ],
      "metadata": {
        "id": "b57THZcR7tRw"
      },
      "execution_count": null,
      "outputs": []
    },
    {
      "cell_type": "code",
      "source": [
        "(mesh.v[59][0] - body.v[near_idx[59]][0])*(vn[near_idx[59]][0]) + (mesh.v[59][1] - body.v[near_idx[59]][1])*(vn[near_idx[59][1]]) + (mesh.v[59][2] - body.v[near_idx[59]][2])*(vn[near_idx[59][2]])"
      ],
      "metadata": {
        "colab": {
          "base_uri": "https://localhost:8080/",
          "height": 187
        },
        "id": "1mk7dtXB7-wH",
        "outputId": "9d9efc5e-955c-4959-9ac1-30a2ea16d5fa"
      },
      "execution_count": null,
      "outputs": [
        {
          "output_type": "error",
          "ename": "IndexError",
          "evalue": "ignored",
          "traceback": [
            "\u001b[0;31m---------------------------------------------------------------------------\u001b[0m",
            "\u001b[0;31mIndexError\u001b[0m                                Traceback (most recent call last)",
            "\u001b[0;32m<ipython-input-53-9bea93bf137c>\u001b[0m in \u001b[0;36m<module>\u001b[0;34m\u001b[0m\n\u001b[0;32m----> 1\u001b[0;31m \u001b[0;34m(\u001b[0m\u001b[0mmesh\u001b[0m\u001b[0;34m.\u001b[0m\u001b[0mv\u001b[0m\u001b[0;34m[\u001b[0m\u001b[0;36m59\u001b[0m\u001b[0;34m]\u001b[0m\u001b[0;34m[\u001b[0m\u001b[0;36m0\u001b[0m\u001b[0;34m]\u001b[0m \u001b[0;34m-\u001b[0m \u001b[0mbody\u001b[0m\u001b[0;34m.\u001b[0m\u001b[0mv\u001b[0m\u001b[0;34m[\u001b[0m\u001b[0mnear_idx\u001b[0m\u001b[0;34m[\u001b[0m\u001b[0;36m59\u001b[0m\u001b[0;34m]\u001b[0m\u001b[0;34m]\u001b[0m\u001b[0;34m[\u001b[0m\u001b[0;36m0\u001b[0m\u001b[0;34m]\u001b[0m\u001b[0;34m)\u001b[0m\u001b[0;34m*\u001b[0m\u001b[0;34m(\u001b[0m\u001b[0mvn\u001b[0m\u001b[0;34m[\u001b[0m\u001b[0mnear_idx\u001b[0m\u001b[0;34m[\u001b[0m\u001b[0;36m58\u001b[0m\u001b[0;34m]\u001b[0m\u001b[0;34m]\u001b[0m\u001b[0;34m[\u001b[0m\u001b[0;36m0\u001b[0m\u001b[0;34m]\u001b[0m\u001b[0;34m)\u001b[0m \u001b[0;34m+\u001b[0m \u001b[0;34m(\u001b[0m\u001b[0mmesh\u001b[0m\u001b[0;34m.\u001b[0m\u001b[0mv\u001b[0m\u001b[0;34m[\u001b[0m\u001b[0;36m59\u001b[0m\u001b[0;34m]\u001b[0m\u001b[0;34m[\u001b[0m\u001b[0;36m1\u001b[0m\u001b[0;34m]\u001b[0m \u001b[0;34m-\u001b[0m \u001b[0mbody\u001b[0m\u001b[0;34m.\u001b[0m\u001b[0mv\u001b[0m\u001b[0;34m[\u001b[0m\u001b[0mnear_idx\u001b[0m\u001b[0;34m[\u001b[0m\u001b[0;36m59\u001b[0m\u001b[0;34m]\u001b[0m\u001b[0;34m]\u001b[0m\u001b[0;34m[\u001b[0m\u001b[0;36m1\u001b[0m\u001b[0;34m]\u001b[0m\u001b[0;34m)\u001b[0m\u001b[0;34m*\u001b[0m\u001b[0;34m(\u001b[0m\u001b[0mvn\u001b[0m\u001b[0;34m[\u001b[0m\u001b[0mnear_idx\u001b[0m\u001b[0;34m[\u001b[0m\u001b[0;36m59\u001b[0m\u001b[0;34m]\u001b[0m\u001b[0;34m[\u001b[0m\u001b[0;36m1\u001b[0m\u001b[0;34m]\u001b[0m\u001b[0;34m]\u001b[0m\u001b[0;34m)\u001b[0m \u001b[0;34m+\u001b[0m \u001b[0;34m(\u001b[0m\u001b[0mmesh\u001b[0m\u001b[0;34m.\u001b[0m\u001b[0mv\u001b[0m\u001b[0;34m[\u001b[0m\u001b[0;36m59\u001b[0m\u001b[0;34m]\u001b[0m\u001b[0;34m[\u001b[0m\u001b[0;36m2\u001b[0m\u001b[0;34m]\u001b[0m \u001b[0;34m-\u001b[0m \u001b[0mbody\u001b[0m\u001b[0;34m.\u001b[0m\u001b[0mv\u001b[0m\u001b[0;34m[\u001b[0m\u001b[0mnear_idx\u001b[0m\u001b[0;34m[\u001b[0m\u001b[0;36m59\u001b[0m\u001b[0;34m]\u001b[0m\u001b[0;34m]\u001b[0m\u001b[0;34m[\u001b[0m\u001b[0;36m2\u001b[0m\u001b[0;34m]\u001b[0m\u001b[0;34m)\u001b[0m\u001b[0;34m*\u001b[0m\u001b[0;34m(\u001b[0m\u001b[0mvn\u001b[0m\u001b[0;34m[\u001b[0m\u001b[0mnear_idx\u001b[0m\u001b[0;34m[\u001b[0m\u001b[0;36m59\u001b[0m\u001b[0;34m]\u001b[0m\u001b[0;34m[\u001b[0m\u001b[0;36m2\u001b[0m\u001b[0;34m]\u001b[0m\u001b[0;34m]\u001b[0m\u001b[0;34m)\u001b[0m\u001b[0;34m\u001b[0m\u001b[0;34m\u001b[0m\u001b[0m\n\u001b[0m",
            "\u001b[0;31mIndexError\u001b[0m: invalid index to scalar variable."
          ]
        }
      ]
    },
    {
      "cell_type": "code",
      "source": [
        "mesh.v[59]"
      ],
      "metadata": {
        "colab": {
          "base_uri": "https://localhost:8080/"
        },
        "id": "fP7x3EtsA8ie",
        "outputId": "cfbb188c-b0e2-4770-8a14-eaab8bbbacc6"
      },
      "execution_count": null,
      "outputs": [
        {
          "output_type": "execute_result",
          "data": {
            "text/plain": [
              "array([-0.54776615,  0.83221754, -0.0858266 ])"
            ]
          },
          "metadata": {},
          "execution_count": 56
        }
      ]
    },
    {
      "cell_type": "code",
      "source": [
        "nearest_points[59]"
      ],
      "metadata": {
        "colab": {
          "base_uri": "https://localhost:8080/"
        },
        "id": "5hQV1cjiBo-d",
        "outputId": "935dfec4-f90b-45c1-9865-ad8c8cd38581"
      },
      "execution_count": null,
      "outputs": [
        {
          "output_type": "execute_result",
          "data": {
            "text/plain": [
              "array([-0.87467397,  3.10795966, -0.70369196])"
            ]
          },
          "metadata": {},
          "execution_count": 57
        }
      ]
    },
    {
      "cell_type": "code",
      "source": [
        "nearest_points[59]"
      ],
      "metadata": {
        "colab": {
          "base_uri": "https://localhost:8080/"
        },
        "id": "3WXSJQHOBxHP",
        "outputId": "8751dee8-8b11-48c8-e5c0-8544a14c7b5a"
      },
      "execution_count": null,
      "outputs": [
        {
          "output_type": "execute_result",
          "data": {
            "text/plain": [
              "array([-0.87467397,  3.10795966, -0.70369196])"
            ]
          },
          "metadata": {},
          "execution_count": 60
        }
      ]
    },
    {
      "cell_type": "code",
      "source": [
        "nearest_normals[59]"
      ],
      "metadata": {
        "colab": {
          "base_uri": "https://localhost:8080/"
        },
        "id": "oQuMW1b2B_Xq",
        "outputId": "6b98ed33-3ce7-4de9-d84c-e964b052aa84"
      },
      "execution_count": null,
      "outputs": [
        {
          "output_type": "execute_result",
          "data": {
            "text/plain": [
              "array([-0.72334506,  0.67183807,  0.15939115])"
            ]
          },
          "metadata": {},
          "execution_count": 61
        }
      ]
    },
    {
      "cell_type": "code",
      "source": [
        "-0.54 +0.87"
      ],
      "metadata": {
        "colab": {
          "base_uri": "https://localhost:8080/"
        },
        "id": "WEd2eq99CB9Y",
        "outputId": "e4b7036a-af8d-4bc4-8bf2-d9c371b0231e"
      },
      "execution_count": null,
      "outputs": [
        {
          "output_type": "execute_result",
          "data": {
            "text/plain": [
              "0.32999999999999996"
            ]
          },
          "metadata": {},
          "execution_count": 62
        }
      ]
    },
    {
      "cell_type": "code",
      "source": [
        "0.83 - 3.10\n"
      ],
      "metadata": {
        "colab": {
          "base_uri": "https://localhost:8080/"
        },
        "id": "mFmZcKVRCyg4",
        "outputId": "d763284e-ad0b-4b34-aa3f-2964c1cb6cae"
      },
      "execution_count": null,
      "outputs": [
        {
          "output_type": "execute_result",
          "data": {
            "text/plain": [
              "-2.27"
            ]
          },
          "metadata": {},
          "execution_count": 63
        }
      ]
    },
    {
      "cell_type": "code",
      "source": [
        "0.7 - 0.085"
      ],
      "metadata": {
        "colab": {
          "base_uri": "https://localhost:8080/"
        },
        "id": "WEyx-OZrC5IZ",
        "outputId": "7504c9d8-c03d-4ecc-c6f8-3dbdcd75231f"
      },
      "execution_count": null,
      "outputs": [
        {
          "output_type": "execute_result",
          "data": {
            "text/plain": [
              "0.615"
            ]
          },
          "metadata": {},
          "execution_count": 64
        }
      ]
    },
    {
      "cell_type": "code",
      "source": [
        "0.33 * 0.71"
      ],
      "metadata": {
        "colab": {
          "base_uri": "https://localhost:8080/"
        },
        "id": "QQ4DYNdVC_6V",
        "outputId": "3d28a0ae-97c7-4bd0-aa6e-71b1fb98e1eb"
      },
      "execution_count": null,
      "outputs": [
        {
          "output_type": "execute_result",
          "data": {
            "text/plain": [
              "0.2343"
            ]
          },
          "metadata": {},
          "execution_count": 65
        }
      ]
    },
    {
      "cell_type": "code",
      "source": [
        "body.v[near_idx[59]]"
      ],
      "metadata": {
        "colab": {
          "base_uri": "https://localhost:8080/"
        },
        "id": "pKhsNGysDMPC",
        "outputId": "ad4995cb-e9a5-4b7c-bee3-44dfeafdd461"
      },
      "execution_count": null,
      "outputs": [
        {
          "output_type": "execute_result",
          "data": {
            "text/plain": [
              "array([-0.903855,  3.08307 , -0.73121 ])"
            ]
          },
          "metadata": {},
          "execution_count": 67
        }
      ]
    },
    {
      "cell_type": "code",
      "source": [
        "vn[near_idx[59]]"
      ],
      "metadata": {
        "colab": {
          "base_uri": "https://localhost:8080/"
        },
        "id": "6ILJC7hqDdw6",
        "outputId": "4d67135f-a53b-48d5-de3f-337099727436"
      },
      "execution_count": null,
      "outputs": [
        {
          "output_type": "execute_result",
          "data": {
            "text/plain": [
              "array([-0.54776615,  0.83221754, -0.0858266 ])"
            ]
          },
          "metadata": {},
          "execution_count": 68
        }
      ]
    },
    {
      "cell_type": "code",
      "source": [],
      "metadata": {
        "id": "k1OeeEY6DnPO"
      },
      "execution_count": null,
      "outputs": []
    }
  ]
}